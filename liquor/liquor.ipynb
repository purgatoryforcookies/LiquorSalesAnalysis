{
 "cells": [
  {
   "cell_type": "code",
   "execution_count": 2,
   "metadata": {},
   "outputs": [
    {
     "name": "stderr",
     "output_type": "stream",
     "text": [
      "C:\\Users\\Maxca\\AppData\\Local\\Temp\\ipykernel_6288\\3827755466.py:8: DtypeWarning: Columns (6) have mixed types. Specify dtype option on import or set low_memory=False.\n",
      "  df = pd.read_csv('Iowa_Liquor_Sales_old.csv')\n"
     ]
    }
   ],
   "source": [
    "from sklearn.metrics.pairwise import cosine_similarity\n",
    "import pandas as pd\n",
    "\n",
    "import numpy as np\n",
    "pd.set_option('display.width', 1000)\n",
    "pd.set_option('display.max_rows', 500)\n",
    "\n",
    "df = pd.read_csv('Iowa_Liquor_Sales_old.csv')\n",
    "df_names = df[['Item Number','Item Description']].drop_duplicates(keep='first', subset=['Item Number'])\n",
    "# print(df)\n",
    "# print(df_names)\n"
   ]
  },
  {
   "cell_type": "code",
   "execution_count": 39,
   "metadata": {},
   "outputs": [
    {
     "name": "stdout",
     "output_type": "stream",
     "text": [
      "          AlcoholID1  AlcoholID2     Score\n",
      "2063484         3438        3438  1.000000\n",
      "29680148      100309      100309  1.000000\n",
      "22446860       66861       66861  1.000000\n",
      "47785556      942426      942426  1.000000\n",
      "35678304      902560      902560  1.000000\n",
      "...              ...         ...       ...\n",
      "49359822      964731      904890  0.200012\n",
      "30355008      900337      917836  0.200004\n",
      "34627494      902205      900337  0.200004\n",
      "43841664      917836      900337  0.200004\n",
      "30353762      900337      902205  0.200004\n",
      "\n",
      "[46796095 rows x 3 columns]\n"
     ]
    }
   ],
   "source": [
    "# pivotDf = pd.pivot_table(df,index = 'Store Number',columns = 'Item Number',values = 'Bottles Sold',aggfunc ='sum').reset_index().fillna(0).drop('Store Number', axis=1)\n",
    "pivotDf = pd.pivot_table(df,index = 'Store Number',columns = 'Item Number',values = 'Bottles Sold',aggfunc =lambda x: len(x.unique())).reset_index().fillna(0).drop('Store Number', axis=1)\n",
    "# pivotDf = pd.pivot_table(df,index = 'Store Number',columns = 'Item Number',values = 'Invoice/Item Number',aggfunc ='count').reset_index().fillna(0).drop('Store Number', axis=1)\n",
    "\n",
    "\n",
    "pivotDf = pivotDf.T.dot(pivotDf)\n",
    "\n",
    "cosScore = pd.DataFrame(cosine_similarity(pivotDf))\n",
    "cosScore.index = pivotDf.index\n",
    "cosScore.columns = np.array(pivotDf.index)\n",
    "df_pairs = cosScore.stack().reset_index()\n",
    "df_pairs = df_pairs.rename(columns={'Item Number': 'AlcoholID1', 'level_1': 'AlcoholID2', 0: 'Score'})\n",
    "df_pairs.reset_index(drop=True, inplace=True, level=0)\n",
    "df_pairs = df_pairs[df_pairs['Score'] > 0.2].sort_values('Score', ascending=False)\n",
    "print(df_pairs)"
   ]
  },
  {
   "cell_type": "code",
   "execution_count": 53,
   "metadata": {},
   "outputs": [
    {
     "name": "stdout",
     "output_type": "stream",
     "text": [
      "         Item Number              Item Description\n",
      "5793           34326     Finlandia Imp Vodka 80prf\n",
      "33002          35136          Finlandia Grapefruit\n",
      "40961         935136    Finlandia Vodka Grapefruit\n",
      "209821         34318            Finlandia Redberry\n",
      "273245        904717  Finlandia Wild Berries Vodka\n",
      "296175         34349     Finlandia Raspberry Vodka\n",
      "710353        903263     Finlandia Cranberry Vodka\n",
      "963682        904285      Finlandia Vodka 80 Proof\n",
      "1053423       903254               Finlandia Vodka\n",
      "1133196       903388        Finlandia Mango Fusion\n",
      "4395083       934349     Finlandia Vodka Raspberry\n",
      "8011298       903286          Finlandia Lime Vodka\n"
     ]
    }
   ],
   "source": [
    "print(df_names[df_names['Item Description'].str.contains('Finland')])"
   ]
  },
  {
   "cell_type": "code",
   "execution_count": 79,
   "metadata": {},
   "outputs": [],
   "source": [
    "tmp = df_pairs[df_pairs['AlcoholID1'] == 34326].sort_values('Score', ascending=False)[:8]\n",
    "# tmp = df_pairs[df_pairs['AlcoholID1'] == 34326].sort_values('Score', ascending=False)[:10]\n",
    "\n",
    "tmp2 = df_pairs[(df_pairs['AlcoholID1'].isin(tmp['AlcoholID2'].to_list()))]\n",
    "    # .sort_values('Score', ascending=False)\n",
    "tmp2 = tmp2[tmp2['Score'] < 1].sort_values('Score', ascending=False)[:12]\n",
    "\n",
    "tmp3 = df_pairs[(df_pairs['AlcoholID1'].isin(tmp2['AlcoholID2'].to_list()))].sort_values('Score', ascending=False)[:20]\n",
    "    # .sort_values('Score', ascending=False)\n",
    "# tmp3 = tmp3[tmp3['Score'] < 1].sort_values('Score', ascending=False)[:20]\n",
    "\n",
    "\n",
    "# print(tmp)\n",
    "# print(tmp2)\n",
    "tmp = tmp.merge(df_names, how='left', left_on='AlcoholID1', right_on='Item Number').rename(columns={'Item Description':'alc_1_title'}).drop(columns='AlcoholID1')\n",
    "tmp = tmp.merge(df_names, how='left', left_on='AlcoholID2', right_on='Item Number').rename(columns={'Item Description':'alc_2_title'}).drop(columns='Item Number_y').rename(columns={'Item Number_x': 'AlcoholID1'})\n",
    "\n",
    "tmp2 = tmp2.merge(df_names, how='left', left_on='AlcoholID1', right_on='Item Number').rename(columns={'Item Description':'alc_1_title'}).drop(columns='AlcoholID1')\n",
    "tmp2 = tmp2.merge(df_names, how='left', left_on='AlcoholID2', right_on='Item Number').rename(columns={'Item Description':'alc_2_title'}).drop(columns='Item Number_y').rename(columns={'Item Number_x': 'AlcoholID1'})\n",
    "\n",
    "tmp3 = tmp3.merge(df_names, how='left', left_on='AlcoholID1', right_on='Item Number').rename(columns={'Item Description':'alc_1_title'}).drop(columns='AlcoholID1')\n",
    "tmp3 = tmp3.merge(df_names, how='left', left_on='AlcoholID2', right_on='Item Number').rename(columns={'Item Description':'alc_2_title'}).drop(columns='Item Number_y').rename(columns={'Item Number_x': 'AlcoholID1'})\n",
    "\n",
    "\n",
    "json_object = tmp.to_json(orient='records')\n",
    "with open(\"tmp.json\", \"w\") as outfile:\n",
    "    outfile.write(json_object)\n",
    "    \n",
    "json_object = tmp2.to_json(orient='records')\n",
    "with open(\"tmp2.json\", \"w\") as outfile:\n",
    "    outfile.write(json_object)\n",
    "\n",
    "json_object = tmp3.to_json(orient='records')\n",
    "with open(\"tmp3.json\", \"w\") as outfile:\n",
    "    outfile.write(json_object)\n"
   ]
  },
  {
   "cell_type": "code",
   "execution_count": null,
   "metadata": {},
   "outputs": [],
   "source": []
  },
  {
   "cell_type": "code",
   "execution_count": 32,
   "metadata": {},
   "outputs": [],
   "source": []
  },
  {
   "cell_type": "code",
   "execution_count": null,
   "metadata": {},
   "outputs": [],
   "source": []
  },
  {
   "cell_type": "code",
   "execution_count": null,
   "metadata": {},
   "outputs": [],
   "source": []
  },
  {
   "cell_type": "code",
   "execution_count": 30,
   "metadata": {},
   "outputs": [
    {
     "name": "stdout",
     "output_type": "stream",
     "text": [
      "          Item Number  AlcoholID2     Score\n",
      "11641304        35914       35914  1.000000\n",
      "11640324        35914       11773  0.991159\n",
      "11641303        35914       35913  0.990682\n",
      "11642685        35914       65194  0.990537\n",
      "11640631        35914       23824  0.989128\n",
      "...               ...         ...       ...\n",
      "11642474        35914       59153  0.202397\n",
      "11646100        35914      940658  0.201497\n",
      "11639816        35914         494  0.201211\n",
      "11641493        35914       37528  0.201184\n",
      "11645989        35914      935743  0.200785\n",
      "\n",
      "[6695 rows x 3 columns]\n"
     ]
    }
   ],
   "source": [
    "print(df_pairs[df_pairs['Item Number'] == 35914].sort_values('Score', ascending=False))"
   ]
  },
  {
   "cell_type": "code",
   "execution_count": 29,
   "metadata": {},
   "outputs": [
    {
     "name": "stdout",
     "output_type": "stream",
     "text": [
      "          MovieId1  MovieId2     Score                 movie_1_title          movie_1_genres        movie_2_title        movie_2_genres\n",
      "0             3909      3909  1.000000           Woman on Top (2000)          Comedy|Romance  Woman on Top (2000)        Comedy|Romance\n",
      "1             2203      3909  0.761385      Shadow of a Doubt (1943)    Crime|Drama|Thriller  Woman on Top (2000)        Comedy|Romance\n",
      "2             6268      3909  0.806856  Raising Victor Vargas (2002)    Comedy|Drama|Romance  Woman on Top (2000)        Comedy|Romance\n",
      "3              634      3909  0.355600           Theodore Rex (1995)                  Comedy  Woman on Top (2000)        Comedy|Romance\n",
      "4             3102      3909  0.648235            Jagged Edge (1985)  Crime|Romance|Thriller  Woman on Top (2000)        Comedy|Romance\n",
      "...            ...       ...       ...                           ...                     ...                  ...                   ...\n",
      "80191709      3719      3567  0.447328   Love's Labour's Lost (2000)          Comedy|Romance    Bossa Nova (2000)  Comedy|Drama|Romance\n",
      "80191710      3567      3567  1.000000             Bossa Nova (2000)    Comedy|Drama|Romance    Bossa Nova (2000)  Comedy|Drama|Romance\n",
      "80191711      6983      6983  1.000000              Jane Eyre (1944)           Drama|Romance     Jane Eyre (1944)         Drama|Romance\n",
      "80191712      4921      6983  0.219725           Little Women (1933)           Drama|Romance     Jane Eyre (1944)         Drama|Romance\n",
      "80191713      2739      6983  0.211187      Color Purple, The (1985)                   Drama     Jane Eyre (1944)         Drama|Romance\n",
      "\n",
      "[80191714 rows x 7 columns]\n"
     ]
    }
   ],
   "source": [
    "df_names = pd.read_csv('data/movies.csv')\n",
    "\n",
    "df_p = df_pairs.copy()\n",
    "\n",
    "df_p = df_p.merge(df_names, how='inner', left_on='MovieId1', right_on='movieId').rename(columns={'title':'movie_1_title','genres':'movie_1_genres'}).drop(columns='movieId')\n",
    "df_p = df_p.merge(df_names, how='inner', left_on='MovieId2', right_on='movieId').rename(columns={'title':'movie_2_title','genres':'movie_2_genres'}).drop(columns='movieId')\n",
    "\n",
    "\n",
    "\n",
    "print(df_p)"
   ]
  },
  {
   "cell_type": "code",
   "execution_count": 14,
   "metadata": {},
   "outputs": [
    {
     "name": "stdout",
     "output_type": "stream",
     "text": [
      "      movieId                                      title                                       genres\n",
      "0           1                           Toy Story (1995)  Adventure|Animation|Children|Comedy|Fantasy\n",
      "1           2                             Jumanji (1995)                   Adventure|Children|Fantasy\n",
      "2           3                    Grumpier Old Men (1995)                               Comedy|Romance\n",
      "3           4                   Waiting to Exhale (1995)                         Comedy|Drama|Romance\n",
      "4           5         Father of the Bride Part II (1995)                                       Comedy\n",
      "...       ...                                        ...                                          ...\n",
      "9737   193581  Black Butler: Book of the Atlantic (2017)              Action|Animation|Comedy|Fantasy\n",
      "9738   193583               No Game No Life: Zero (2017)                     Animation|Comedy|Fantasy\n",
      "9739   193585                               Flint (2017)                                        Drama\n",
      "9740   193587        Bungo Stray Dogs: Dead Apple (2018)                             Action|Animation\n",
      "9741   193609        Andrew Dice Clay: Dice Rules (1991)                                       Comedy\n",
      "\n",
      "[9742 rows x 3 columns]\n"
     ]
    }
   ],
   "source": [
    "print(df_names)"
   ]
  },
  {
   "cell_type": "code",
   "execution_count": 30,
   "metadata": {},
   "outputs": [
    {
     "name": "stdout",
     "output_type": "stream",
     "text": [
      "None\n"
     ]
    }
   ],
   "source": [
    "pd.set_option('display.width', 1000)\n",
    "pd.set_option('display.max_rows', 500)\n",
    "\n",
    "print(df_p[df_p['MovieId1'] == 1].sort_values('Score', ascending=False).to_excel('result.xlsx'))"
   ]
  },
  {
   "cell_type": "code",
   "execution_count": null,
   "metadata": {},
   "outputs": [],
   "source": []
  }
 ],
 "metadata": {
  "kernelspec": {
   "display_name": "tf_gpu",
   "language": "python",
   "name": "python3"
  },
  "language_info": {
   "codemirror_mode": {
    "name": "ipython",
    "version": 3
   },
   "file_extension": ".py",
   "mimetype": "text/x-python",
   "name": "python",
   "nbconvert_exporter": "python",
   "pygments_lexer": "ipython3",
   "version": "3.9.12"
  },
  "orig_nbformat": 4
 },
 "nbformat": 4,
 "nbformat_minor": 2
}
