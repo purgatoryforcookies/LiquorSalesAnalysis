{
 "cells": [
  {
   "cell_type": "code",
   "execution_count": 1,
   "metadata": {},
   "outputs": [
    {
     "name": "stdout",
     "output_type": "stream",
     "text": [
      "        userId  movieId  rating\n",
      "0            1        1     4.0\n",
      "1            1        3     4.0\n",
      "2            1        6     4.0\n",
      "3            1       47     5.0\n",
      "4            1       50     5.0\n",
      "...        ...      ...     ...\n",
      "100831     610   166534     4.0\n",
      "100832     610   168248     5.0\n",
      "100833     610   168250     5.0\n",
      "100834     610   168252     5.0\n",
      "100835     610   170875     3.0\n",
      "\n",
      "[100836 rows x 3 columns]\n"
     ]
    }
   ],
   "source": [
    "from sklearn.metrics.pairwise import cosine_similarity\n",
    "import pandas as pd\n",
    "\n",
    "import numpy as np\n",
    "\n",
    "\n",
    "\n",
    "# df = pd.read_excel('test.xlsx')\n",
    "df = pd.read_csv('data/ratings.csv')\n",
    "# print(df)\n",
    "\n",
    "# df2 = df[['ID','Product','Qty']]\n",
    "# print(df2)\n",
    "\n",
    "df2 = df[['userId','movieId','rating']]\n",
    "print(df2)\n",
    "\n"
   ]
  },
  {
   "cell_type": "code",
   "execution_count": 28,
   "metadata": {},
   "outputs": [],
   "source": [
    "pivotDf = pd.pivot_table(df2,index = 'userId',columns = 'movieId',values = 'rating',aggfunc = 'mean').reset_index().fillna(0).drop('userId', axis=1)\n",
    "pivotDf = pivotDf.T.dot(pivotDf)\n",
    "\n",
    "cosScore = pd.DataFrame(cosine_similarity(pivotDf))\n",
    "cosScore.index = pivotDf.index\n",
    "cosScore.columns = np.array(pivotDf.index)\n",
    "# print(cosScore)\n",
    "df_pairs = cosScore.stack().reset_index()\n",
    "df_pairs = df_pairs.rename(columns={'movieId': 'MovieId1', 'level_1': 'MovieId2', 0: 'Score'})\n",
    "df_pairs.reset_index(drop=True, inplace=True, level=0)\n",
    "df_pairs = df_pairs[df_pairs['Score'] > 0.2].sort_values('Score', ascending=False)"
   ]
  },
  {
   "cell_type": "code",
   "execution_count": 29,
   "metadata": {},
   "outputs": [
    {
     "name": "stdout",
     "output_type": "stream",
     "text": [
      "          MovieId1  MovieId2     Score                 movie_1_title          movie_1_genres        movie_2_title        movie_2_genres\n",
      "0             3909      3909  1.000000           Woman on Top (2000)          Comedy|Romance  Woman on Top (2000)        Comedy|Romance\n",
      "1             2203      3909  0.761385      Shadow of a Doubt (1943)    Crime|Drama|Thriller  Woman on Top (2000)        Comedy|Romance\n",
      "2             6268      3909  0.806856  Raising Victor Vargas (2002)    Comedy|Drama|Romance  Woman on Top (2000)        Comedy|Romance\n",
      "3              634      3909  0.355600           Theodore Rex (1995)                  Comedy  Woman on Top (2000)        Comedy|Romance\n",
      "4             3102      3909  0.648235            Jagged Edge (1985)  Crime|Romance|Thriller  Woman on Top (2000)        Comedy|Romance\n",
      "...            ...       ...       ...                           ...                     ...                  ...                   ...\n",
      "80191709      3719      3567  0.447328   Love's Labour's Lost (2000)          Comedy|Romance    Bossa Nova (2000)  Comedy|Drama|Romance\n",
      "80191710      3567      3567  1.000000             Bossa Nova (2000)    Comedy|Drama|Romance    Bossa Nova (2000)  Comedy|Drama|Romance\n",
      "80191711      6983      6983  1.000000              Jane Eyre (1944)           Drama|Romance     Jane Eyre (1944)         Drama|Romance\n",
      "80191712      4921      6983  0.219725           Little Women (1933)           Drama|Romance     Jane Eyre (1944)         Drama|Romance\n",
      "80191713      2739      6983  0.211187      Color Purple, The (1985)                   Drama     Jane Eyre (1944)         Drama|Romance\n",
      "\n",
      "[80191714 rows x 7 columns]\n"
     ]
    }
   ],
   "source": [
    "df_names = pd.read_csv('data/movies.csv')\n",
    "\n",
    "df_p = df_pairs.copy()\n",
    "\n",
    "df_p = df_p.merge(df_names, how='inner', left_on='MovieId1', right_on='movieId').rename(columns={'title':'movie_1_title','genres':'movie_1_genres'}).drop(columns='movieId')\n",
    "df_p = df_p.merge(df_names, how='inner', left_on='MovieId2', right_on='movieId').rename(columns={'title':'movie_2_title','genres':'movie_2_genres'}).drop(columns='movieId')\n",
    "\n",
    "\n",
    "\n",
    "print(df_p)"
   ]
  },
  {
   "cell_type": "code",
   "execution_count": 14,
   "metadata": {},
   "outputs": [
    {
     "name": "stdout",
     "output_type": "stream",
     "text": [
      "      movieId                                      title                                       genres\n",
      "0           1                           Toy Story (1995)  Adventure|Animation|Children|Comedy|Fantasy\n",
      "1           2                             Jumanji (1995)                   Adventure|Children|Fantasy\n",
      "2           3                    Grumpier Old Men (1995)                               Comedy|Romance\n",
      "3           4                   Waiting to Exhale (1995)                         Comedy|Drama|Romance\n",
      "4           5         Father of the Bride Part II (1995)                                       Comedy\n",
      "...       ...                                        ...                                          ...\n",
      "9737   193581  Black Butler: Book of the Atlantic (2017)              Action|Animation|Comedy|Fantasy\n",
      "9738   193583               No Game No Life: Zero (2017)                     Animation|Comedy|Fantasy\n",
      "9739   193585                               Flint (2017)                                        Drama\n",
      "9740   193587        Bungo Stray Dogs: Dead Apple (2018)                             Action|Animation\n",
      "9741   193609        Andrew Dice Clay: Dice Rules (1991)                                       Comedy\n",
      "\n",
      "[9742 rows x 3 columns]\n"
     ]
    }
   ],
   "source": [
    "print(df_names)"
   ]
  },
  {
   "cell_type": "code",
   "execution_count": 30,
   "metadata": {},
   "outputs": [
    {
     "name": "stdout",
     "output_type": "stream",
     "text": [
      "None\n"
     ]
    }
   ],
   "source": [
    "pd.set_option('display.width', 1000)\n",
    "pd.set_option('display.max_rows', 500)\n",
    "\n",
    "print(df_p[df_p['MovieId1'] == 1].sort_values('Score', ascending=False).to_excel('result.xlsx'))"
   ]
  },
  {
   "cell_type": "code",
   "execution_count": null,
   "metadata": {},
   "outputs": [],
   "source": []
  }
 ],
 "metadata": {
  "kernelspec": {
   "display_name": "tf_gpu",
   "language": "python",
   "name": "python3"
  },
  "language_info": {
   "codemirror_mode": {
    "name": "ipython",
    "version": 3
   },
   "file_extension": ".py",
   "mimetype": "text/x-python",
   "name": "python",
   "nbconvert_exporter": "python",
   "pygments_lexer": "ipython3",
   "version": "3.9.12"
  },
  "orig_nbformat": 4
 },
 "nbformat": 4,
 "nbformat_minor": 2
}
