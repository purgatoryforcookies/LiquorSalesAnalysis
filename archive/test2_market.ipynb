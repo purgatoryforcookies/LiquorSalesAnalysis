{
 "cells": [
  {
   "cell_type": "code",
   "execution_count": 66,
   "metadata": {},
   "outputs": [
    {
     "name": "stdout",
     "output_type": "stream",
     "text": [
      "      Order ID                     Product  Quantity Ordered\n",
      "0       176558        USB-C Charging Cable               2.0\n",
      "2       176559  Bose SoundSport Headphones               1.0\n",
      "3       176560                Google Phone               1.0\n",
      "4       176560            Wired Headphones               1.0\n",
      "5       176561            Wired Headphones               1.0\n",
      "...        ...                         ...               ...\n",
      "11681   259353      AAA Batteries (4-pack)               3.0\n",
      "11682   259354                      iPhone               1.0\n",
      "11683   259355                      iPhone               1.0\n",
      "11684   259356      34in Ultrawide Monitor               1.0\n",
      "11685   259357        USB-C Charging Cable               1.0\n",
      "\n",
      "[186305 rows x 3 columns]\n",
      "Order ID             object\n",
      "Product              object\n",
      "Quantity Ordered    float64\n",
      "dtype: object\n"
     ]
    },
    {
     "name": "stderr",
     "output_type": "stream",
     "text": [
      "C:\\Users\\Maxca\\AppData\\Local\\Temp\\ipykernel_14228\\3262830765.py:19: SettingWithCopyWarning: \n",
      "A value is trying to be set on a copy of a slice from a DataFrame.\n",
      "Try using .loc[row_indexer,col_indexer] = value instead\n",
      "\n",
      "See the caveats in the documentation: https://pandas.pydata.org/pandas-docs/stable/user_guide/indexing.html#returning-a-view-versus-a-copy\n",
      "  df2['Quantity Ordered'] = pd.to_numeric(df2['Quantity Ordered'], errors='coerce')\n"
     ]
    }
   ],
   "source": [
    "from sklearn.metrics.pairwise import cosine_similarity\n",
    "import pandas as pd\n",
    "\n",
    "import numpy as np\n",
    "pd.set_option('display.width', 1000)\n",
    "pd.set_option('display.max_rows', 500)\n",
    "\n",
    "from pathlib import Path\n",
    "\n",
    "p = Path(r\"D:\\Projektit\\Koodausprojekteja\\Math test\\archive\")\n",
    "df = pd.DataFrame()\n",
    "files = p.rglob('*.csv')\n",
    "\n",
    "df = pd.concat([pd.read_csv(file) for file in files]).dropna()\n",
    "\n",
    "# print(df)\n",
    "\n",
    "df2 = df[['Order ID','Product','Quantity Ordered']]\n",
    "df2['Quantity Ordered'] = pd.to_numeric(df2['Quantity Ordered'], errors='coerce')\n",
    "print(df2)\n",
    "\n",
    "\n",
    "# df2 = df[['userId','movieId','rating']]\n",
    "# print(df_name.drop_duplicates(keep='last'))\n",
    "# \n",
    "\n",
    "print(df2.dtypes)"
   ]
  },
  {
   "cell_type": "code",
   "execution_count": 64,
   "metadata": {},
   "outputs": [
    {
     "name": "stdout",
     "output_type": "stream",
     "text": [
      "None\n"
     ]
    }
   ],
   "source": [
    "pivotDf = pd.pivot_table(df2,index = 'Order ID',columns = 'Product',values = 'Quantity Ordered',aggfunc = 'sum').reset_index().fillna(0).drop('Order ID', axis=1)\n",
    "pivotDf = pivotDf.T.dot(pivotDf)\n",
    "\n",
    "cosScore = pd.DataFrame(cosine_similarity(pivotDf))\n",
    "cosScore.index = pivotDf.index\n",
    "cosScore.columns = np.array(pivotDf.index)\n",
    "df_pairs = cosScore.stack().reset_index()\n",
    "# print(df_pairs)\n",
    "df_pairs = df_pairs.rename(columns={'Product': 'ProductID1', 'level_1': 'ProductID2', 0: 'Score'})\n",
    "df_pairs.reset_index(drop=True, inplace=True, level=0)\n",
    "df_pairs = df_pairs[df_pairs['Score'] > 0.2].sort_values('Score', ascending=False)\n",
    "print(df_pairs.to_excel('test4.xlsx'))"
   ]
  },
  {
   "cell_type": "code",
   "execution_count": 65,
   "metadata": {},
   "outputs": [
    {
     "name": "stdout",
     "output_type": "stream",
     "text": [
      "       ProductID1            ProductID2     Score\n",
      "189  Google Phone          Google Phone  1.000000\n",
      "196  Google Phone  USB-C Charging Cable  0.228121\n"
     ]
    }
   ],
   "source": [
    "print(df_pairs[df_pairs['ProductID1'] == 'Google Phone'].sort_values('Score', ascending=False))"
   ]
  },
  {
   "cell_type": "code",
   "execution_count": 28,
   "metadata": {},
   "outputs": [
    {
     "name": "stdout",
     "output_type": "stream",
     "text": [
      "             ProductID1       ProductID2  Score                                       ProductName1                                       ProductName2\n",
      "0       TEC-PH-10004977  TEC-PH-10004977    1.0                                        GE 30524EE4                                        GE 30524EE4\n",
      "1       TEC-PH-10004977  TEC-PH-10004977    1.0                                        GE 30524EE4                                        GE 30524EE4\n",
      "2       TEC-PH-10004977  TEC-PH-10004977    1.0                                        GE 30524EE4                                        GE 30524EE4\n",
      "3       TEC-PH-10004977  TEC-PH-10004977    1.0                                        GE 30524EE4                                        GE 30524EE4\n",
      "4       TEC-PH-10004977  TEC-PH-10004977    1.0                                        GE 30524EE4                                        GE 30524EE4\n",
      "...                 ...              ...    ...                                                ...                                                ...\n",
      "747265  FUR-BO-10002202  FUR-BO-10002202    1.0  Atlantic Metals Mobile 2-Shelf Bookcases, Cust...  Atlantic Metals Mobile 2-Shelf Bookcases, Cust...\n",
      "747266  FUR-BO-10000711  FUR-BO-10000711    1.0                          Hon Metal Bookcases, Gray                          Hon Metal Bookcases, Gray\n",
      "747267  FUR-BO-10000711  FUR-BO-10000711    1.0                          Hon Metal Bookcases, Gray                          Hon Metal Bookcases, Gray\n",
      "747268  FUR-BO-10000711  FUR-BO-10000711    1.0                          Hon Metal Bookcases, Gray                          Hon Metal Bookcases, Gray\n",
      "747269  FUR-BO-10000711  FUR-BO-10000711    1.0                          Hon Metal Bookcases, Gray                          Hon Metal Bookcases, Gray\n",
      "\n",
      "[747270 rows x 5 columns]\n"
     ]
    }
   ],
   "source": [
    "\n",
    "\n",
    "df_p = df_pairs.copy()\n",
    "\n",
    "df_p = df_p.merge(df_names, how='inner', left_on='ProductID1', right_on='Product').rename(columns={'Product Name':'ProductName1'}).drop(columns='Product ID')\n",
    "df_p = df_p.merge(df_names, how='inner', left_on='ProductID2', right_on='Product ID').rename(columns={'Product Name':'ProductName2'}).drop(columns='Product ID')\n",
    "\n",
    "\n",
    "\n",
    "print(df_p)"
   ]
  },
  {
   "cell_type": "code",
   "execution_count": 14,
   "metadata": {},
   "outputs": [
    {
     "name": "stdout",
     "output_type": "stream",
     "text": [
      "      movieId                                      title                                       genres\n",
      "0           1                           Toy Story (1995)  Adventure|Animation|Children|Comedy|Fantasy\n",
      "1           2                             Jumanji (1995)                   Adventure|Children|Fantasy\n",
      "2           3                    Grumpier Old Men (1995)                               Comedy|Romance\n",
      "3           4                   Waiting to Exhale (1995)                         Comedy|Drama|Romance\n",
      "4           5         Father of the Bride Part II (1995)                                       Comedy\n",
      "...       ...                                        ...                                          ...\n",
      "9737   193581  Black Butler: Book of the Atlantic (2017)              Action|Animation|Comedy|Fantasy\n",
      "9738   193583               No Game No Life: Zero (2017)                     Animation|Comedy|Fantasy\n",
      "9739   193585                               Flint (2017)                                        Drama\n",
      "9740   193587        Bungo Stray Dogs: Dead Apple (2018)                             Action|Animation\n",
      "9741   193609        Andrew Dice Clay: Dice Rules (1991)                                       Comedy\n",
      "\n",
      "[9742 rows x 3 columns]\n"
     ]
    }
   ],
   "source": [
    "print(df_names)"
   ]
  },
  {
   "cell_type": "code",
   "execution_count": 29,
   "metadata": {},
   "outputs": [
    {
     "name": "stdout",
     "output_type": "stream",
     "text": [
      "None\n"
     ]
    }
   ],
   "source": [
    "\n",
    "\n",
    "print(df_p[df_p['ProductID1'] == 'OFF-AR-10004042'].sort_values('Score', ascending=False).to_excel('test3.xlsx'))"
   ]
  },
  {
   "cell_type": "code",
   "execution_count": null,
   "metadata": {},
   "outputs": [],
   "source": []
  }
 ],
 "metadata": {
  "kernelspec": {
   "display_name": "tf_gpu",
   "language": "python",
   "name": "python3"
  },
  "language_info": {
   "codemirror_mode": {
    "name": "ipython",
    "version": 3
   },
   "file_extension": ".py",
   "mimetype": "text/x-python",
   "name": "python",
   "nbconvert_exporter": "python",
   "pygments_lexer": "ipython3",
   "version": "3.9.12"
  },
  "orig_nbformat": 4
 },
 "nbformat": 4,
 "nbformat_minor": 2
}
