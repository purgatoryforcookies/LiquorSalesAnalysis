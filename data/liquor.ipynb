{
 "cells": [
  {
   "cell_type": "code",
   "execution_count": 1,
   "metadata": {},
   "outputs": [],
   "source": [
    "from sklearn.metrics.pairwise import cosine_similarity\n",
    "import pandas as pd\n",
    "import numpy as np\n",
    "\n",
    "pd.set_option(\"display.width\", 1000)\n",
    "pd.set_option(\"display.max_rows\", 500)\n",
    "\n",
    "types = {\n",
    "    \"Invoice/Item Number\": object,\n",
    "    \"Date\": object,\n",
    "    \"Store Number\": int,\n",
    "    \"Store Name\": object,\n",
    "    \"Address\": object,\n",
    "    \"City\": object,\n",
    "    \"Zip Code\": object,\n",
    "    \"Store Location\": object,\n",
    "    \"County Number\": object,\n",
    "    \"County\": object,\n",
    "    \"Category\": float,\n",
    "    \"Category Name\": object,\n",
    "    \"Vendor Number\": float,\n",
    "    \"Vendor Name\": object,\n",
    "    \"Item Number\": object,\n",
    "    \"Item Description\": object,\n",
    "    \"Pack\": int,\n",
    "    \"Bottle Volume (ml)\": int,\n",
    "    \"State Bottle Cost\": float,\n",
    "    \"State Bottle Retail\": float,\n",
    "    \"Bottles Sold\": int,\n",
    "    \"Sale (Dollars)\": float,\n",
    "    \"Volume Sold (Liters)\": float,\n",
    "    \"Volume Sold (Gallons)\": float,\n",
    "}\n",
    "\n",
    "df = pd.read_csv(\"Iowa_Liquor_Sales.csv\", dtype=types, parse_dates=[\"Date\"])\n",
    "df[\"Item Number\"] = pd.to_numeric(\n",
    "    df[\"Item Number\"], errors=\"coerce\", downcast=\"integer\"\n",
    ")\n",
    "df = df.dropna(subset=[\"Item Number\"])\n",
    "\n",
    "df_itemNames = df[\n",
    "    [\"Item Number\", \"Item Description\", \"Pack\", \"Bottle Volume (ml)\", \"Category Name\"]\n",
    "].drop_duplicates(keep=\"first\", subset=[\"Item Number\"]).fillna(\"-\")\n",
    "\n",
    "\n",
    "df_itemNames[\"Item Number\"] = pd.to_numeric(\n",
    "    df_itemNames[\"Item Number\"], errors=\"coerce\", downcast=\"integer\"\n",
    ")\n",
    "\n",
    "df_storeNames = df[[\"Store Number\",\"Store Name\", \"Store Location\", \"City\"]].drop_duplicates(keep=\"first\", subset=[\"Store Number\"])\n",
    "df_storeNames[\"Store Number\"] = pd.to_numeric(\n",
    "    df_storeNames[\"Store Number\"], errors=\"coerce\", downcast=\"integer\"\n",
    ")\n",
    "\n"
   ]
  },
  {
   "cell_type": "code",
   "execution_count": 2,
   "metadata": {},
   "outputs": [
    {
     "name": "stderr",
     "output_type": "stream",
     "text": [
      "C:\\Users\\Maxca\\AppData\\Local\\Temp\\ipykernel_15728\\3484334673.py:2: FutureWarning: In a future version of pandas all arguments of StringMethods.split except for the argument 'pat' will be keyword-only.\n",
      "  df['long'] = df['Store Location'].str.split(\" \", 2).str[0].str[1:].astype(float)\n",
      "C:\\Users\\Maxca\\AppData\\Local\\Temp\\ipykernel_15728\\3484334673.py:3: FutureWarning: In a future version of pandas all arguments of StringMethods.split except for the argument 'pat' will be keyword-only.\n",
      "  df['lat'] = df['Store Location'].str.split(\" \", 2).str[1].str[:-1].astype(float)\n"
     ]
    }
   ],
   "source": [
    "df['Store Location'] = df['Store Location'].str[6:]\n",
    "df['long'] = df['Store Location'].str.split(\" \", 2).str[0].str[1:].astype(float)\n",
    "df['lat'] = df['Store Location'].str.split(\" \", 2).str[1].str[:-1].astype(float)"
   ]
  },
  {
   "cell_type": "code",
   "execution_count": 3,
   "metadata": {},
   "outputs": [],
   "source": [
    "locations = df[['long','lat','Volume Sold (Liters)']]\\\n",
    "    .dropna().groupby(['long','lat'])\\\n",
    "        .agg({'Volume Sold (Liters)': 'sum'})\\\n",
    "            .reset_index()\\\n",
    "                .rename(columns={'Volume Sold (Liters)': 'liters'})\n",
    "                    \n",
    "locations['coords'] = locations[['long', 'lat']].values.tolist()\n",
    "\n",
    "# locations[['liters','coords']].to_json(\"data.json\", orient=\"records\")\n",
    "\n",
    "# print(locations)"
   ]
  },
  {
   "cell_type": "code",
   "execution_count": null,
   "metadata": {},
   "outputs": [],
   "source": [
    "print(len(df))\n",
    "print(len(df['Item Number'].unique()))\n",
    "print(len(df['Store Number'].unique()))\n",
    "print(df['Volume Sold (Liters)'].sum())\n",
    "print(df['Bottles Sold'].sum())\n",
    "print(len(df['City'].unique()))\n",
    "print(df['Sale (Dollars)'].sum())"
   ]
  },
  {
   "cell_type": "code",
   "execution_count": 4,
   "metadata": {},
   "outputs": [],
   "source": [
    "import warnings\n",
    "warnings.filterwarnings('ignore')"
   ]
  },
  {
   "cell_type": "code",
   "execution_count": 5,
   "metadata": {},
   "outputs": [],
   "source": [
    "\n",
    "itemByStorePivot = pd.pivot_table(df, values='Volume Sold (Liters)', index='Item Number', columns='Store Number', aggfunc='sum')\n",
    "\n",
    "def busiestStore(x):\n",
    "    \n",
    "    try:\n",
    "        return itemByStorePivot[itemByStorePivot.index == x.iloc[0]].idxmax(axis=1).iloc[0].astype(int)\n",
    "        \n",
    "    except Exception as e:\n",
    "        print(x)\n",
    "        print(e)\n",
    "        return 0\n",
    "\n",
    "\n",
    "df['busiestStore'] = df['Item Number']\n",
    "itemStats = pd.pivot_table(\n",
    "    df,\n",
    "    index=['Item Number'],\n",
    "    aggfunc={'Store Number': lambda x: len(x.unique()),\n",
    "        'Volume Sold (Liters)':np.sum,\n",
    "        'State Bottle Retail':np.average,\n",
    "        'busiestStore': busiestStore,\n",
    "        }\n",
    "    ).reset_index()\n",
    "\n",
    "itemStats.columns = ['item_number', 'price_avg_usd', 'store_count', 'sold_liters', 'busiest_store_id']\n",
    "\n",
    "\n",
    "itemStats = pd.merge(itemStats, df_storeNames, left_on='busiest_store_id', right_on='Store Number', how='left')\\\n",
    "    .drop(columns=['Store Number', 'Store Location'])\\\n",
    "        .rename(columns={'Store Name':'store_name', 'City':'store_city'})\n",
    "        \n",
    "itemStats['store_name'] = itemStats['store_name'].str.split(' / ').str[0]\n"
   ]
  },
  {
   "cell_type": "code",
   "execution_count": 6,
   "metadata": {},
   "outputs": [
    {
     "name": "stdout",
     "output_type": "stream",
     "text": [
      "   weekday               Item Description\n",
      "0        2      ADMIRAL NELSON SPICED RUM\n",
      "1        1  JEREMIAH WEED SWEET TEA VODKA\n",
      "2        2          PATRON SILVER TEQUILA\n",
      "3        1               FIVE O'CLOCK GIN\n",
      "4        2        FAMILIA CAMARENA SILVER\n",
      "0    1\n",
      "Name: weekday, dtype: int64\n",
      "1    6239934\n",
      "2    6178458\n",
      "0    5802969\n",
      "3    4904229\n",
      "4    3477762\n",
      "5     220280\n",
      "6      17286\n",
      "Name: weekday, dtype: int64\n"
     ]
    }
   ],
   "source": [
    "df['weekday'] = df['Date'].dt.weekday\n",
    "\n",
    "print(df[['weekday','Item Description']].head())\n",
    "print(df.weekday.mode())\n",
    "print(df['weekday'].value_counts())"
   ]
  },
  {
   "cell_type": "code",
   "execution_count": null,
   "metadata": {},
   "outputs": [],
   "source": [
    "corr = df[['Store Number','Vendor Number','Item Number','Bottle Volume (ml)','State Bottle Retail','Bottles Sold','Volume Sold (Liters)','weekday']].corr()\n",
    "\n",
    "corr.style.background_gradient(cmap='RdYlGn')"
   ]
  },
  {
   "cell_type": "code",
   "execution_count": 7,
   "metadata": {},
   "outputs": [
    {
     "data": {
      "text/plain": [
       "598"
      ]
     },
     "execution_count": 7,
     "metadata": {},
     "output_type": "execute_result"
    }
   ],
   "source": [
    "from DataLink import DataLink\n",
    "import dotenv\n",
    "import os\n",
    "dotenv.load_dotenv('../.env')\n",
    "\n",
    "\n",
    "\n",
    "link = DataLink(os.environ[\"POSTGRES_USER\"], os.environ[\"POSTGRES_PASSWORD\"], \"db\", \n",
    "                host=\"192.168.0.113\", port=6789\n",
    "                )\n",
    "\n",
    "# df.set_index('Item Number').to_sql(\"liquor\", link.engine, if_exists=\"replace\", index=True, index_label=['Item Number'], chunksize=1_000_000)\n",
    "itemStats.set_index('item_number').to_sql(\"liquor_store_stats\", link.engine, if_exists=\"replace\", index=True, index_label=['item_number'], chunksize=1_000_000)\n"
   ]
  },
  {
   "cell_type": "code",
   "execution_count": 8,
   "metadata": {},
   "outputs": [
    {
     "name": "stdout",
     "output_type": "stream",
     "text": [
      "(2952, 12598)\n"
     ]
    }
   ],
   "source": [
    "pivotDf = (\n",
    "    pd.pivot_table(\n",
    "        df,\n",
    "        index=\"Store Number\",\n",
    "        columns=\"Item Number\",\n",
    "        values=\"Bottles Sold\",\n",
    "        aggfunc=lambda x: x.sum(),\n",
    "    )\n",
    "    .reset_index()\n",
    "    .fillna(0)\n",
    "    .drop(\"Store Number\", axis=1)\n",
    ")\n",
    "print(pivotDf.shape)"
   ]
  },
  {
   "cell_type": "code",
   "execution_count": 9,
   "metadata": {},
   "outputs": [],
   "source": [
    "from numpy.linalg import svd\n",
    "\n",
    "matrix = pivotDf.values\n",
    "u, s, vh = svd(matrix, full_matrices=False)\n",
    "k = 1024\n",
    "U = u[:, :k]\n",
    "VT = vh[:, :k]"
   ]
  },
  {
   "cell_type": "code",
   "execution_count": null,
   "metadata": {},
   "outputs": [],
   "source": [
    "print(pd.DataFrame(VT).head())\n",
    "print(pd.DataFrame(VT).shape)\n",
    "print(VT[0].shape)\n"
   ]
  },
  {
   "cell_type": "code",
   "execution_count": 10,
   "metadata": {},
   "outputs": [
    {
     "name": "stdout",
     "output_type": "stream",
     "text": [
      "You Know, for Search\n"
     ]
    }
   ],
   "source": [
    "from elasticsearch import Elasticsearch\n",
    "\n",
    "client = Elasticsearch(\"http://192.168.0.113:9200\")\n",
    "print(client.info()['tagline'])"
   ]
  },
  {
   "cell_type": "code",
   "execution_count": 11,
   "metadata": {},
   "outputs": [
    {
     "name": "stdout",
     "output_type": "stream",
     "text": [
      "creating index...\n"
     ]
    },
    {
     "data": {
      "text/plain": [
       "ObjectApiResponse({'acknowledged': True, 'shards_acknowledged': True, 'index': 'liquoridx'})"
      ]
     },
     "execution_count": 11,
     "metadata": {},
     "output_type": "execute_result"
    }
   ],
   "source": [
    "# 'Item Number','Item Description','Pack','Bottle Volume (ml)','Category Name'\n",
    "\n",
    "request_body = {\n",
    "    \"mappings\": {\n",
    "        \"properties\": {\n",
    "            \"productCode\": {\"type\": \"integer\"},\n",
    "            \"embed\": {\n",
    "                \"type\": \"dense_vector\",\n",
    "                \"dims\": 1024,\n",
    "                \"index\": True,\n",
    "                \"similarity\": \"cosine\",\n",
    "            },\n",
    "            \"name\": {\"type\": \"text\"},\n",
    "            \"pack\": {\"type\": \"integer\"},\n",
    "            \"vol_ml\": {\"type\": \"integer\"},\n",
    "            \"category\": {\"type\": \"text\"},\n",
    "        }\n",
    "    }\n",
    "}\n",
    "print(\"creating index...\")\n",
    "client.indices.create(index=\"liquoridx\", body=request_body)"
   ]
  },
  {
   "cell_type": "code",
   "execution_count": 12,
   "metadata": {},
   "outputs": [],
   "source": [
    "for embed, prodCode in zip(VT, pivotDf.columns.to_list()):\n",
    "    sliceOfMeta = df_itemNames[df_itemNames[\"Item Number\"] == prodCode]\n",
    "    \n",
    "    # print(sliceOfMeta)\n",
    "    \n",
    "    # break\n",
    "    doc = {\n",
    "        \"productCode\": prodCode,\n",
    "        \"embed\": embed,\n",
    "        \"name\": sliceOfMeta[\"Item Description\"].iloc[0],\n",
    "        \"pack\": sliceOfMeta[\"Pack\"].iloc[0],\n",
    "        \"vol_ml\": sliceOfMeta[\"Bottle Volume (ml)\"].iloc[0],\n",
    "        \"category\": sliceOfMeta[\"Category Name\"].iloc[0],\n",
    "    }\n",
    "\n",
    "    try:\n",
    "        client.index(index=\"liquoridx\", document=doc)\n",
    "    except Exception as e:\n",
    "        print(prodCode, e)"
   ]
  },
  {
   "cell_type": "code",
   "execution_count": 13,
   "metadata": {},
   "outputs": [
    {
     "data": {
      "text/plain": [
       "ObjectApiResponse({'_shards': {'total': 2, 'successful': 1, 'failed': 0}})"
      ]
     },
     "execution_count": 13,
     "metadata": {},
     "output_type": "execute_result"
    }
   ],
   "source": [
    "client.indices.refresh(index=\"liquoridx\")"
   ]
  },
  {
   "cell_type": "code",
   "execution_count": null,
   "metadata": {},
   "outputs": [],
   "source": [
    "# Fuzzy search\n",
    "\n",
    "body = {\"match\": {\"name\": {\"query\": \"blueberry\", \"fuzziness\": \"AUTO\"}}}\n",
    "\n",
    "\n",
    "find = client.search(\n",
    "    index=\"liquoridx\", query=body, source=[\"productCode\", \"name\", \"embed\"]\n",
    ")\n",
    "print(find)\n",
    "\n",
    "for hit in find.body[\"hits\"][\"hits\"]:\n",
    "    print(hit)"
   ]
  },
  {
   "cell_type": "code",
   "execution_count": null,
   "metadata": {},
   "outputs": [],
   "source": [
    "# Vector search\n",
    "\n",
    "\n",
    "# first find the id\n",
    "searchWord = \"Finlandia Rasberry\"\n",
    "\n",
    "body = {\"match\": {\"name\": {\"query\": searchWord, \"fuzziness\": \"AUTO\"}}}\n",
    "find = client.search(index=\"liquoridx\", query=body, source=[\"productCode\", \"name\"])\n",
    "\n",
    "topMatchCode = int(find.body[\"hits\"][\"hits\"][0][\"_source\"][\"productCode\"])\n",
    "\n",
    "# retrieve the embedding for that id\n",
    "\n",
    "body = {\"match\": {\"productCode\": {\"query\": topMatchCode}}}\n",
    "find = client.search(\n",
    "    index=\"liquoridx\", query=body, source=[\"productCode\", \"name\", \"embed\"])\n",
    "\n",
    "embeddingArr = find.body[\"hits\"][\"hits\"][0][\"_source\"][\"embed\"]\n",
    "\n",
    "# Similarity search\n",
    "\n",
    "\n",
    "body = {\n",
    "    \"field\": \"embed\",\n",
    "    \"query_vector\": embeddingArr,\n",
    "    \"k\": 10,\n",
    "    \"num_candidates\": 30\n",
    "}\n",
    "\n",
    "find = client.search(\n",
    "    index=\"liquoridx\",\n",
    "    source=[\"productCode\", \"name\"],\n",
    "    knn= body,\n",
    ")\n",
    "\n",
    "\n",
    "for hit in find.body[\"hits\"][\"hits\"]:\n",
    "    print(hit)"
   ]
  }
 ],
 "metadata": {
  "kernelspec": {
   "display_name": "data",
   "language": "python",
   "name": "python3"
  },
  "language_info": {
   "codemirror_mode": {
    "name": "ipython",
    "version": 3
   },
   "file_extension": ".py",
   "mimetype": "text/x-python",
   "name": "python",
   "nbconvert_exporter": "python",
   "pygments_lexer": "ipython3",
   "version": "3.10.11"
  },
  "orig_nbformat": 4
 },
 "nbformat": 4,
 "nbformat_minor": 2
}
