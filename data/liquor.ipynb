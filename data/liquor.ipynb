{
 "cells": [
  {
   "cell_type": "code",
   "execution_count": 83,
   "metadata": {},
   "outputs": [],
   "source": [
    "from sklearn.metrics.pairwise import cosine_similarity\n",
    "import pandas as pd\n",
    "import numpy as np\n",
    "\n",
    "pd.set_option(\"display.width\", 1000)\n",
    "pd.set_option(\"display.max_rows\", 500)\n",
    "\n",
    "types = {\n",
    "    \"Invoice/Item Number\": object,\n",
    "    \"Date\": object,\n",
    "    \"Store Number\": int,\n",
    "    \"Store Name\": object,\n",
    "    \"Address\": object,\n",
    "    \"City\": object,\n",
    "    \"Zip Code\": object,\n",
    "    \"Store Location\": object,\n",
    "    \"County Number\": object,\n",
    "    \"County\": object,\n",
    "    \"Category\": float,\n",
    "    \"Category Name\": object,\n",
    "    \"Vendor Number\": float,\n",
    "    \"Vendor Name\": object,\n",
    "    \"Item Number\": object,\n",
    "    \"Item Description\": object,\n",
    "    \"Pack\": int,\n",
    "    \"Bottle Volume (ml)\": int,\n",
    "    \"State Bottle Cost\": float,\n",
    "    \"State Bottle Retail\": float,\n",
    "    \"Bottles Sold\": int,\n",
    "    \"Sale (Dollars)\": float,\n",
    "    \"Volume Sold (Liters)\": float,\n",
    "    \"Volume Sold (Gallons)\": float,\n",
    "}\n",
    "\n",
    "df = pd.read_csv(\"Iowa_Liquor_Sales.csv\", dtype=types, parse_dates=[\"Date\"])\n",
    "df[\"Item Number\"] = pd.to_numeric(\n",
    "    df[\"Item Number\"], errors=\"coerce\", downcast=\"integer\"\n",
    ")\n",
    "df = df.dropna(subset=[\"Item Number\"])\n",
    "\n",
    "df_itemNames = df[\n",
    "    [\"Item Number\", \"Item Description\", \"Pack\", \"Bottle Volume (ml)\", \"Category Name\"]\n",
    "].drop_duplicates(keep=\"first\", subset=[\"Item Number\"]).fillna(\"-\")\n",
    "\n",
    "\n",
    "df_itemNames[\"Item Number\"] = pd.to_numeric(\n",
    "    df_itemNames[\"Item Number\"], errors=\"coerce\", downcast=\"integer\"\n",
    ")\n",
    "\n",
    "df_storeNames = df[[\"Store Number\",\"Store Name\", \"Store Location\", \"City\"]].drop_duplicates(keep=\"first\", subset=[\"Store Number\"])\n",
    "df_storeNames[\"Store Number\"] = pd.to_numeric(\n",
    "    df_storeNames[\"Store Number\"], errors=\"coerce\", downcast=\"integer\"\n",
    ")\n",
    "\n"
   ]
  },
  {
   "cell_type": "code",
   "execution_count": 70,
   "metadata": {},
   "outputs": [],
   "source": [
    "import warnings\n",
    "warnings.filterwarnings('ignore')"
   ]
  },
  {
   "cell_type": "code",
   "execution_count": 94,
   "metadata": {},
   "outputs": [],
   "source": [
    "\n",
    "itemByStorePivot = pd.pivot_table(df, values='Volume Sold (Liters)', index='Item Number', columns='Store Number', aggfunc='sum')\n",
    "\n",
    "def busiestStore(x):\n",
    "    \n",
    "    try:\n",
    "        return itemByStorePivot[itemByStorePivot.index == x.iloc[0]].idxmax(axis=1).iloc[0].astype(int)\n",
    "        \n",
    "    except Exception as e:\n",
    "        print(x)\n",
    "        print(e)\n",
    "        return 0\n",
    "\n",
    "\n",
    "df['busiestStore'] = df['Item Number']\n",
    "itemStats = pd.pivot_table(\n",
    "    df,\n",
    "    index=['Item Number'],\n",
    "    aggfunc={'Store Number': lambda x: len(x.unique()),\n",
    "        'Volume Sold (Liters)':np.sum,\n",
    "        'State Bottle Retail':np.average,\n",
    "        'busiestStore': busiestStore,\n",
    "        }\n",
    "    ).reset_index()\n",
    "\n",
    "itemStats.columns = ['item_number', 'price_avg_usd', 'store_count', 'sold_liters', 'busiest_store_id']\n",
    "\n",
    "\n",
    "itemStats = pd.merge(itemStats, df_storeNames, left_on='busiest_store_id', right_on='Store Number', how='left')\\\n",
    "    .drop(columns=['Store Number', 'Store Location'])\\\n",
    "        .rename(columns={'Store Name':'store_name', 'City':'store_city'})\n",
    "        \n",
    "itemStats['store_name'] = itemStats['store_name'].str.split(' / ').str[0]\n"
   ]
  },
  {
   "cell_type": "code",
   "execution_count": 96,
   "metadata": {},
   "outputs": [
    {
     "data": {
      "text/plain": [
       "598"
      ]
     },
     "execution_count": 96,
     "metadata": {},
     "output_type": "execute_result"
    }
   ],
   "source": [
    "from DataLink import DataLink\n",
    "\n",
    "\n",
    "link = DataLink(\"username123\", \"password123\", \"db\")\n",
    "\n",
    "\n",
    "# df.set_index('Item Number').to_sql(\"liquor\", link.engine, if_exists=\"replace\", index=True, index_label=['Item Number'], chunksize=1_000_000)\n",
    "itemStats.set_index('item_number').to_sql(\"liquor_store_stats\", link.engine, if_exists=\"replace\", index=True, index_label=['item_number'], chunksize=1_000_000)\n",
    "# link.executeRaw('ALTER TABLE liquor ADD PRIMARY KEY (\"Invoice/Item Number\")')\n"
   ]
  },
  {
   "cell_type": "code",
   "execution_count": 16,
   "metadata": {},
   "outputs": [
    {
     "name": "stdout",
     "output_type": "stream",
     "text": [
      "(2952, 12598)\n"
     ]
    }
   ],
   "source": [
    "pivotDf = (\n",
    "    pd.pivot_table(\n",
    "        df,\n",
    "        index=\"Store Number\",\n",
    "        columns=\"Item Number\",\n",
    "        values=\"Bottles Sold\",\n",
    "        aggfunc=lambda x: x.sum(),\n",
    "    )\n",
    "    .reset_index()\n",
    "    .fillna(0)\n",
    "    .drop(\"Store Number\", axis=1)\n",
    ")\n",
    "print(pivotDf.shape)"
   ]
  },
  {
   "cell_type": "code",
   "execution_count": 45,
   "metadata": {},
   "outputs": [],
   "source": [
    "from numpy.linalg import svd\n",
    "\n",
    "matrix = pivotDf.values\n",
    "u, s, vh = svd(matrix, full_matrices=False)\n",
    "k = 1024\n",
    "U = u[:, :k]\n",
    "VT = vh[:, :k]"
   ]
  },
  {
   "cell_type": "code",
   "execution_count": 48,
   "metadata": {},
   "outputs": [
    {
     "name": "stdout",
     "output_type": "stream",
     "text": [
      "           0             1             2             3             4         5         6         7             8             9     ...      1014      1015      1016      1017      1018      1019      1020      1021      1022      1023\n",
      "0 -8.968078e-07 -3.372753e-06 -5.527936e-06 -1.275140e-06 -9.218630e-07 -0.000004 -0.000039 -0.000006 -7.767270e-07 -1.214606e-06  ... -0.000003 -0.000148 -0.011214 -0.011137 -0.000818 -0.000743 -0.000091 -0.002868 -0.000005 -0.000017\n",
      "1  6.439515e-06  1.434550e-05  1.426490e-05  2.948490e-06  5.467430e-06  0.000046  0.000218  0.000002  5.197317e-06  8.000281e-06  ...  0.000017  0.000678  0.012070 -0.003141  0.003049  0.000758  0.000218  0.008297  0.000010  0.000015\n",
      "2 -4.227308e-06 -8.268627e-06 -6.766992e-06 -2.230809e-06 -5.005382e-06 -0.000021 -0.000259  0.000004 -3.067320e-06 -3.023768e-06  ... -0.000016 -0.000287 -0.023393  0.009255 -0.016606 -0.000127 -0.000105 -0.004608 -0.000008 -0.000069\n",
      "3 -6.828956e-07  2.311354e-07 -9.773650e-06 -2.553841e-06 -5.184596e-07  0.000005 -0.000014  0.000006 -1.090101e-06 -5.185920e-07  ...  0.000002 -0.000016  0.008353  0.007801  0.028204  0.000347  0.000021 -0.002603  0.000005  0.000111\n",
      "4  6.346511e-06  1.578094e-05  3.877704e-07  3.950639e-07  7.550979e-06  0.000044  0.000371  0.000007  4.529209e-06  5.247095e-06  ...  0.000030  0.000560  0.007361  0.001006 -0.019546  0.000992  0.000253  0.004727  0.000019 -0.000073\n",
      "\n",
      "[5 rows x 1024 columns]\n",
      "(2952, 1024)\n",
      "(1024,)\n"
     ]
    }
   ],
   "source": [
    "print(pd.DataFrame(VT).head())\n",
    "print(pd.DataFrame(VT).shape)\n",
    "print(VT[0].shape)\n"
   ]
  },
  {
   "cell_type": "code",
   "execution_count": 49,
   "metadata": {},
   "outputs": [
    {
     "name": "stdout",
     "output_type": "stream",
     "text": [
      "You Know, for Search\n"
     ]
    }
   ],
   "source": [
    "from elasticsearch import Elasticsearch\n",
    "\n",
    "client = Elasticsearch(\"http://localhost:9200\")\n",
    "print(client.info()['tagline'])"
   ]
  },
  {
   "cell_type": "code",
   "execution_count": null,
   "metadata": {},
   "outputs": [],
   "source": [
    "# 'Item Number','Item Description','Pack','Bottle Volume (ml)','Category Name'\n",
    "\n",
    "request_body = {\n",
    "    \"mappings\": {\n",
    "        \"properties\": {\n",
    "            \"productCode\": {\"type\": \"integer\"},\n",
    "            \"embed\": {\n",
    "                \"type\": \"dense_vector\",\n",
    "                \"dims\": 1024,\n",
    "                \"index\": True,\n",
    "                \"similarity\": \"cosine\",\n",
    "            },\n",
    "            \"name\": {\"type\": \"text\"},\n",
    "            \"pack\": {\"type\": \"integer\"},\n",
    "            \"vol_ml\": {\"type\": \"integer\"},\n",
    "            \"category\": {\"type\": \"text\"},\n",
    "        }\n",
    "    }\n",
    "}\n",
    "print(\"creating index...\")\n",
    "client.indices.create(index=\"liquoridx\", body=request_body)"
   ]
  },
  {
   "cell_type": "code",
   "execution_count": 51,
   "metadata": {},
   "outputs": [],
   "source": [
    "for embed, prodCode in zip(VT, pivotDf.columns.to_list()):\n",
    "    sliceOfMeta = df_names[df_names[\"Item Number\"] == prodCode]\n",
    "    \n",
    "    # print(sliceOfMeta)\n",
    "    \n",
    "    \n",
    "    doc = {\n",
    "        \"productCode\": prodCode,\n",
    "        \"embed\": embed,\n",
    "        \"name\": sliceOfMeta[\"Item Description\"].iloc[0],\n",
    "        \"pack\": sliceOfMeta[\"Pack\"].iloc[0],\n",
    "        \"vol_ml\": sliceOfMeta[\"Bottle Volume (ml)\"].iloc[0],\n",
    "        \"category\": sliceOfMeta[\"Category Name\"].iloc[0],\n",
    "    }\n",
    "\n",
    "    try:\n",
    "        client.index(index=\"liquoridx\", document=doc)\n",
    "    except Exception as e:\n",
    "        print(prodCode, e)"
   ]
  },
  {
   "cell_type": "code",
   "execution_count": 52,
   "metadata": {},
   "outputs": [
    {
     "data": {
      "text/plain": [
       "ObjectApiResponse({'_shards': {'total': 2, 'successful': 1, 'failed': 0}})"
      ]
     },
     "execution_count": 52,
     "metadata": {},
     "output_type": "execute_result"
    }
   ],
   "source": [
    "client.indices.refresh(index=\"liquoridx\")"
   ]
  },
  {
   "cell_type": "code",
   "execution_count": null,
   "metadata": {},
   "outputs": [],
   "source": [
    "# Fuzzy search\n",
    "\n",
    "body = {\"match\": {\"name\": {\"query\": \"blueberry\", \"fuzziness\": \"AUTO\"}}}\n",
    "\n",
    "\n",
    "find = client.search(\n",
    "    index=\"liquoridx\", query=body, source=[\"productCode\", \"name\", \"embed\"]\n",
    ")\n",
    "print(find)\n",
    "\n",
    "for hit in find.body[\"hits\"][\"hits\"]:\n",
    "    print(hit)"
   ]
  },
  {
   "cell_type": "code",
   "execution_count": 26,
   "metadata": {},
   "outputs": [
    {
     "name": "stdout",
     "output_type": "stream",
     "text": [
      "{'_index': 'liquoridx', '_id': 'MDSgNIkBiSuT_TsXpJTQ', '_score': 1.0, '_source': {'productCode': 34318.0, 'name': 'FINLANDIA REDBERRY'}}\n",
      "{'_index': 'liquoridx', '_id': 'lTSgNIkBiSuT_TsXuZSi', '_score': 0.7601434, '_source': {'productCode': 35136.0, 'name': 'FINLANDIA GRAPEFRUIT'}}\n",
      "{'_index': 'liquoridx', '_id': 'nTShNIkBiSuT_TsXXpcq', '_score': 0.7337059, '_source': {'productCode': 40638.0, 'name': \"BURNETT'S SUGAR COOKIE\"}}\n",
      "{'_index': 'liquoridx', '_id': '3DShNIkBiSuT_TsXa5do', '_score': 0.7337059, '_source': {'productCode': 41219.0, 'name': \"BURNETT'S PEAR VODKA\"}}\n",
      "{'_index': 'liquoridx', '_id': '3zShNIkBiSuT_TsXa5f-', '_score': 0.7337059, '_source': {'productCode': 41222.0, 'name': \"BURNETT'S POMEGRANATE\"}}\n",
      "{'_index': 'liquoridx', '_id': '4DShNIkBiSuT_TsXbJc6', '_score': 0.7337059, '_source': {'productCode': 41225.0, 'name': \"BURNETT'S STRAWBERRY\"}}\n",
      "{'_index': 'liquoridx', '_id': '4TShNIkBiSuT_TsXbJds', '_score': 0.7337059, '_source': {'productCode': 41270.0, 'name': \"BURNETT'S BLUEBERRY\"}}\n",
      "{'_index': 'liquoridx', '_id': '4jShNIkBiSuT_TsXbJee', '_score': 0.7337059, '_source': {'productCode': 41277.0, 'name': \"BURNETT'S GRAPE\"}}\n",
      "{'_index': 'liquoridx', '_id': '5TShNIkBiSuT_TsXbZdI', '_score': 0.7337059, '_source': {'productCode': 41293.0, 'name': \"BURNETT'S PEACH\"}}\n",
      "{'_index': 'liquoridx', '_id': '5zShNIkBiSuT_TsXbZes', '_score': 0.7337059, '_source': {'productCode': 41300.0, 'name': \"BURNETT'S CHERRY\"}}\n"
     ]
    }
   ],
   "source": [
    "# Vector search\n",
    "\n",
    "\n",
    "# first find the id\n",
    "searchWord = \"Finlandia Rasberry\"\n",
    "\n",
    "body = {\"match\": {\"name\": {\"query\": searchWord, \"fuzziness\": \"AUTO\"}}}\n",
    "find = client.search(index=\"liquoridx\", query=body, source=[\"productCode\", \"name\"])\n",
    "\n",
    "topMatchCode = int(find.body[\"hits\"][\"hits\"][0][\"_source\"][\"productCode\"])\n",
    "\n",
    "# retrieve the embedding for that id\n",
    "\n",
    "body = {\"match\": {\"productCode\": {\"query\": topMatchCode}}}\n",
    "find = client.search(\n",
    "    index=\"liquoridx\", query=body, source=[\"productCode\", \"name\", \"embed\"])\n",
    "\n",
    "embeddingArr = find.body[\"hits\"][\"hits\"][0][\"_source\"][\"embed\"]\n",
    "\n",
    "# Similarity search\n",
    "\n",
    "\n",
    "body = {\n",
    "    \"field\": \"embed\",\n",
    "    \"query_vector\": embeddingArr,\n",
    "    \"k\": 10,\n",
    "    \"num_candidates\": 30\n",
    "}\n",
    "\n",
    "find = client.search(\n",
    "    index=\"liquoridx\",\n",
    "    source=[\"productCode\", \"name\"],\n",
    "    knn= body,\n",
    ")\n",
    "\n",
    "\n",
    "for hit in find.body[\"hits\"][\"hits\"]:\n",
    "    print(hit)"
   ]
  }
 ],
 "metadata": {
  "kernelspec": {
   "display_name": "tf_gpu",
   "language": "python",
   "name": "python3"
  },
  "language_info": {
   "codemirror_mode": {
    "name": "ipython",
    "version": 3
   },
   "file_extension": ".py",
   "mimetype": "text/x-python",
   "name": "python",
   "nbconvert_exporter": "python",
   "pygments_lexer": "ipython3",
   "version": "3.11.2"
  },
  "orig_nbformat": 4
 },
 "nbformat": 4,
 "nbformat_minor": 2
}
