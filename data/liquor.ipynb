{
 "cells": [
  {
   "cell_type": "code",
   "execution_count": 1,
   "metadata": {},
   "outputs": [],
   "source": [
    "from sklearn.metrics.pairwise import cosine_similarity\n",
    "import pandas as pd\n",
    "import numpy as np\n",
    "\n",
    "pd.set_option(\"display.width\", 1000)\n",
    "pd.set_option(\"display.max_rows\", 500)\n",
    "\n",
    "types = {\n",
    "    \"Invoice/Item Number\": object,\n",
    "    \"Date\": object,\n",
    "    \"Store Number\": int,\n",
    "    \"Store Name\": object,\n",
    "    \"Address\": object,\n",
    "    \"City\": object,\n",
    "    \"Zip Code\": object,\n",
    "    \"Store Location\": object,\n",
    "    \"County Number\": object,\n",
    "    \"County\": object,\n",
    "    \"Category\": float,\n",
    "    \"Category Name\": object,\n",
    "    \"Vendor Number\": float,\n",
    "    \"Vendor Name\": object,\n",
    "    \"Item Number\": object,\n",
    "    \"Item Description\": object,\n",
    "    \"Pack\": int,\n",
    "    \"Bottle Volume (ml)\": int,\n",
    "    \"State Bottle Cost\": float,\n",
    "    \"State Bottle Retail\": float,\n",
    "    \"Bottles Sold\": int,\n",
    "    \"Sale (Dollars)\": float,\n",
    "    \"Volume Sold (Liters)\": float,\n",
    "    \"Volume Sold (Gallons)\": float,\n",
    "}\n",
    "\n",
    "df = pd.read_csv(\"Iowa_Liquor_Sales.csv\", dtype=types, parse_dates=[\"Date\"])\n",
    "df[\"Item Number\"] = pd.to_numeric(\n",
    "    df[\"Item Number\"], errors=\"coerce\", downcast=\"integer\"\n",
    ")\n",
    "df = df.dropna(subset=[\"Item Number\"])\n",
    "\n",
    "df_itemNames = df[\n",
    "    [\"Item Number\", \"Item Description\", \"Pack\", \"Bottle Volume (ml)\", \"Category Name\"]\n",
    "].drop_duplicates(keep=\"first\", subset=[\"Item Number\"]).fillna(\"-\")\n",
    "\n",
    "\n",
    "df_itemNames[\"Item Number\"] = pd.to_numeric(\n",
    "    df_itemNames[\"Item Number\"], errors=\"coerce\", downcast=\"integer\"\n",
    ")\n",
    "\n",
    "df_storeNames = df[[\"Store Number\",\"Store Name\", \"Store Location\", \"City\"]].drop_duplicates(keep=\"first\", subset=[\"Store Number\"])\n",
    "df_storeNames[\"Store Number\"] = pd.to_numeric(\n",
    "    df_storeNames[\"Store Number\"], errors=\"coerce\", downcast=\"integer\"\n",
    ")\n",
    "\n"
   ]
  },
  {
   "cell_type": "code",
   "execution_count": 2,
   "metadata": {},
   "outputs": [
    {
     "name": "stderr",
     "output_type": "stream",
     "text": [
      "C:\\Users\\Maxca\\AppData\\Local\\Temp\\ipykernel_42844\\3484334673.py:2: FutureWarning: In a future version of pandas all arguments of StringMethods.split except for the argument 'pat' will be keyword-only.\n",
      "  df['long'] = df['Store Location'].str.split(\" \", 2).str[0].str[1:].astype(float)\n",
      "C:\\Users\\Maxca\\AppData\\Local\\Temp\\ipykernel_42844\\3484334673.py:3: FutureWarning: In a future version of pandas all arguments of StringMethods.split except for the argument 'pat' will be keyword-only.\n",
      "  df['lat'] = df['Store Location'].str.split(\" \", 2).str[1].str[:-1].astype(float)\n"
     ]
    }
   ],
   "source": [
    "df['Store Location'] = df['Store Location'].str[6:]\n",
    "df['long'] = df['Store Location'].str.split(\" \", 2).str[0].str[1:].astype(float)\n",
    "df['lat'] = df['Store Location'].str.split(\" \", 2).str[1].str[:-1].astype(float)"
   ]
  },
  {
   "cell_type": "code",
   "execution_count": 3,
   "metadata": {},
   "outputs": [
    {
     "name": "stdout",
     "output_type": "stream",
     "text": [
      "            long        lat    liters                                   coords\n",
      "0    -104.845334  38.848017      9.00                 [-104.845334, 38.848017]\n",
      "1    -101.924438  51.856783     12.00                 [-101.924438, 51.856783]\n",
      "2    -100.022029  37.763303   3132.66                 [-100.022029, 37.763303]\n",
      "3     -96.563290  42.822746    392.00            [-96.563289983, 42.822745979]\n",
      "4     -96.563290  42.822746    852.92  [-96.56328998299995, 42.82274597900005]\n",
      "...          ...        ...       ...                                      ...\n",
      "8661  -80.345220  42.022560  17959.66                    [-80.34522, 42.02256]\n",
      "8662  -78.416590  40.514190    791.70                    [-78.41659, 40.51419]\n",
      "8663  -77.311870  35.962780   3647.59                    [-77.31187, 35.96278]\n",
      "8664  -73.982421  40.305231   5046.15                  [-73.982421, 40.305231]\n",
      "8665  -73.982421  40.305231  10559.68         [-73.982421, 40.305231000000006]\n",
      "\n",
      "[8666 rows x 4 columns]\n"
     ]
    }
   ],
   "source": [
    "locations = df[['long','lat','Volume Sold (Liters)']]\\\n",
    "    .dropna().groupby(['long','lat'])\\\n",
    "        .agg({'Volume Sold (Liters)': 'sum'})\\\n",
    "            .reset_index()\\\n",
    "                .rename(columns={'Volume Sold (Liters)': 'liters'})\n",
    "                    \n",
    "locations['coords'] = locations[['long', 'lat']].values.tolist()\n",
    "\n",
    "# locations[['liters','coords']].to_json(\"data.json\", orient=\"records\")\n",
    "\n",
    "# print(locations)"
   ]
  },
  {
   "cell_type": "code",
   "execution_count": 4,
   "metadata": {},
   "outputs": [
    {
     "name": "stdout",
     "output_type": "stream",
     "text": [
      "26840918\n",
      "12598\n",
      "2952\n",
      "245960556.77000034\n",
      "287866700\n",
      "482\n",
      "3834034245.360009\n"
     ]
    }
   ],
   "source": [
    "print(len(df))\n",
    "print(len(df['Item Number'].unique()))\n",
    "print(len(df['Store Number'].unique()))\n",
    "print(df['Volume Sold (Liters)'].sum())\n",
    "print(df['Bottles Sold'].sum())\n",
    "print(len(df['City'].unique()))\n",
    "print(df['Sale (Dollars)'].sum())"
   ]
  },
  {
   "cell_type": "code",
   "execution_count": 5,
   "metadata": {},
   "outputs": [],
   "source": [
    "import warnings\n",
    "warnings.filterwarnings('ignore')"
   ]
  },
  {
   "cell_type": "code",
   "execution_count": 6,
   "metadata": {},
   "outputs": [],
   "source": [
    "\n",
    "itemByStorePivot = pd.pivot_table(df, values='Volume Sold (Liters)', index='Item Number', columns='Store Number', aggfunc='sum')\n",
    "\n",
    "def busiestStore(x):\n",
    "    \n",
    "    try:\n",
    "        return itemByStorePivot[itemByStorePivot.index == x.iloc[0]].idxmax(axis=1).iloc[0].astype(int)\n",
    "        \n",
    "    except Exception as e:\n",
    "        print(x)\n",
    "        print(e)\n",
    "        return 0\n",
    "\n",
    "\n",
    "df['busiestStore'] = df['Item Number']\n",
    "itemStats = pd.pivot_table(\n",
    "    df,\n",
    "    index=['Item Number'],\n",
    "    aggfunc={'Store Number': lambda x: len(x.unique()),\n",
    "        'Volume Sold (Liters)':np.sum,\n",
    "        'State Bottle Retail':np.average,\n",
    "        'busiestStore': busiestStore,\n",
    "        }\n",
    "    ).reset_index()\n",
    "\n",
    "itemStats.columns = ['item_number', 'price_avg_usd', 'store_count', 'sold_liters', 'busiest_store_id']\n",
    "\n",
    "\n",
    "itemStats = pd.merge(itemStats, df_storeNames, left_on='busiest_store_id', right_on='Store Number', how='left')\\\n",
    "    .drop(columns=['Store Number', 'Store Location'])\\\n",
    "        .rename(columns={'Store Name':'store_name', 'City':'store_city'})\n",
    "        \n",
    "itemStats['store_name'] = itemStats['store_name'].str.split(' / ').str[0]\n"
   ]
  },
  {
   "cell_type": "code",
   "execution_count": 7,
   "metadata": {},
   "outputs": [
    {
     "name": "stdout",
     "output_type": "stream",
     "text": [
      "   weekday               Item Description\n",
      "0        2      ADMIRAL NELSON SPICED RUM\n",
      "1        1  JEREMIAH WEED SWEET TEA VODKA\n",
      "2        2          PATRON SILVER TEQUILA\n",
      "3        1               FIVE O'CLOCK GIN\n",
      "4        2        FAMILIA CAMARENA SILVER\n",
      "0    1\n",
      "Name: weekday, dtype: int64\n",
      "1    6239934\n",
      "2    6178458\n",
      "0    5802969\n",
      "3    4904229\n",
      "4    3477762\n",
      "5     220280\n",
      "6      17286\n",
      "Name: weekday, dtype: int64\n"
     ]
    }
   ],
   "source": [
    "df['weekday'] = df['Date'].dt.weekday\n",
    "\n",
    "print(df[['weekday','Item Description']].head())\n",
    "print(df.weekday.mode())\n",
    "print(df['weekday'].value_counts())"
   ]
  },
  {
   "cell_type": "code",
   "execution_count": 8,
   "metadata": {},
   "outputs": [
    {
     "data": {
      "text/html": [
       "<style type=\"text/css\">\n",
       "#T_abb22_row0_col0, #T_abb22_row1_col1, #T_abb22_row2_col2, #T_abb22_row3_col3, #T_abb22_row4_col4, #T_abb22_row5_col5, #T_abb22_row6_col6, #T_abb22_row7_col7 {\n",
       "  background-color: #006837;\n",
       "  color: #f1f1f1;\n",
       "}\n",
       "#T_abb22_row0_col1, #T_abb22_row4_col6 {\n",
       "  background-color: #b50f26;\n",
       "  color: #f1f1f1;\n",
       "}\n",
       "#T_abb22_row0_col2, #T_abb22_row1_col4 {\n",
       "  background-color: #bb1526;\n",
       "  color: #f1f1f1;\n",
       "}\n",
       "#T_abb22_row0_col3, #T_abb22_row0_col6, #T_abb22_row3_col0, #T_abb22_row3_col2, #T_abb22_row3_col7, #T_abb22_row4_col1, #T_abb22_row4_col5, #T_abb22_row5_col4 {\n",
       "  background-color: #a50026;\n",
       "  color: #f1f1f1;\n",
       "}\n",
       "#T_abb22_row0_col4, #T_abb22_row1_col7, #T_abb22_row3_col5, #T_abb22_row7_col6 {\n",
       "  background-color: #b30d26;\n",
       "  color: #f1f1f1;\n",
       "}\n",
       "#T_abb22_row0_col5, #T_abb22_row2_col3, #T_abb22_row7_col4 {\n",
       "  background-color: #be1827;\n",
       "  color: #f1f1f1;\n",
       "}\n",
       "#T_abb22_row0_col7, #T_abb22_row6_col0 {\n",
       "  background-color: #c41e27;\n",
       "  color: #f1f1f1;\n",
       "}\n",
       "#T_abb22_row1_col0 {\n",
       "  background-color: #dd3d2d;\n",
       "  color: #f1f1f1;\n",
       "}\n",
       "#T_abb22_row1_col2, #T_abb22_row2_col4 {\n",
       "  background-color: #e34933;\n",
       "  color: #f1f1f1;\n",
       "}\n",
       "#T_abb22_row1_col3 {\n",
       "  background-color: #d42d27;\n",
       "  color: #f1f1f1;\n",
       "}\n",
       "#T_abb22_row1_col5, #T_abb22_row5_col2 {\n",
       "  background-color: #c62027;\n",
       "  color: #f1f1f1;\n",
       "}\n",
       "#T_abb22_row1_col6, #T_abb22_row7_col2 {\n",
       "  background-color: #b71126;\n",
       "  color: #f1f1f1;\n",
       "}\n",
       "#T_abb22_row2_col0, #T_abb22_row5_col0 {\n",
       "  background-color: #d62f27;\n",
       "  color: #f1f1f1;\n",
       "}\n",
       "#T_abb22_row2_col1 {\n",
       "  background-color: #da362a;\n",
       "  color: #f1f1f1;\n",
       "}\n",
       "#T_abb22_row2_col5, #T_abb22_row6_col2 {\n",
       "  background-color: #c82227;\n",
       "  color: #f1f1f1;\n",
       "}\n",
       "#T_abb22_row2_col6 {\n",
       "  background-color: #c21c27;\n",
       "  color: #f1f1f1;\n",
       "}\n",
       "#T_abb22_row2_col7, #T_abb22_row6_col7 {\n",
       "  background-color: #ab0626;\n",
       "  color: #f1f1f1;\n",
       "}\n",
       "#T_abb22_row3_col1, #T_abb22_row6_col1 {\n",
       "  background-color: #a70226;\n",
       "  color: #f1f1f1;\n",
       "}\n",
       "#T_abb22_row3_col4 {\n",
       "  background-color: #fec877;\n",
       "  color: #000000;\n",
       "}\n",
       "#T_abb22_row3_col6 {\n",
       "  background-color: #e44c34;\n",
       "  color: #f1f1f1;\n",
       "}\n",
       "#T_abb22_row4_col0, #T_abb22_row5_col3 {\n",
       "  background-color: #ca2427;\n",
       "  color: #f1f1f1;\n",
       "}\n",
       "#T_abb22_row4_col2, #T_abb22_row7_col0 {\n",
       "  background-color: #e24731;\n",
       "  color: #f1f1f1;\n",
       "}\n",
       "#T_abb22_row4_col3 {\n",
       "  background-color: #fed884;\n",
       "  color: #000000;\n",
       "}\n",
       "#T_abb22_row4_col7 {\n",
       "  background-color: #af0926;\n",
       "  color: #f1f1f1;\n",
       "}\n",
       "#T_abb22_row5_col1 {\n",
       "  background-color: #b10b26;\n",
       "  color: #f1f1f1;\n",
       "}\n",
       "#T_abb22_row5_col6 {\n",
       "  background-color: #2aa054;\n",
       "  color: #f1f1f1;\n",
       "}\n",
       "#T_abb22_row5_col7, #T_abb22_row7_col1 {\n",
       "  background-color: #ad0826;\n",
       "  color: #f1f1f1;\n",
       "}\n",
       "#T_abb22_row6_col3 {\n",
       "  background-color: #f46d43;\n",
       "  color: #f1f1f1;\n",
       "}\n",
       "#T_abb22_row6_col4, #T_abb22_row7_col5 {\n",
       "  background-color: #bd1726;\n",
       "  color: #f1f1f1;\n",
       "}\n",
       "#T_abb22_row6_col5 {\n",
       "  background-color: #279f53;\n",
       "  color: #f1f1f1;\n",
       "}\n",
       "#T_abb22_row7_col3 {\n",
       "  background-color: #cc2627;\n",
       "  color: #f1f1f1;\n",
       "}\n",
       "</style>\n",
       "<table id=\"T_abb22\">\n",
       "  <thead>\n",
       "    <tr>\n",
       "      <th class=\"blank level0\" >&nbsp;</th>\n",
       "      <th id=\"T_abb22_level0_col0\" class=\"col_heading level0 col0\" >Store Number</th>\n",
       "      <th id=\"T_abb22_level0_col1\" class=\"col_heading level0 col1\" >Vendor Number</th>\n",
       "      <th id=\"T_abb22_level0_col2\" class=\"col_heading level0 col2\" >Item Number</th>\n",
       "      <th id=\"T_abb22_level0_col3\" class=\"col_heading level0 col3\" >Bottle Volume (ml)</th>\n",
       "      <th id=\"T_abb22_level0_col4\" class=\"col_heading level0 col4\" >State Bottle Retail</th>\n",
       "      <th id=\"T_abb22_level0_col5\" class=\"col_heading level0 col5\" >Bottles Sold</th>\n",
       "      <th id=\"T_abb22_level0_col6\" class=\"col_heading level0 col6\" >Volume Sold (Liters)</th>\n",
       "      <th id=\"T_abb22_level0_col7\" class=\"col_heading level0 col7\" >weekday</th>\n",
       "    </tr>\n",
       "  </thead>\n",
       "  <tbody>\n",
       "    <tr>\n",
       "      <th id=\"T_abb22_level0_row0\" class=\"row_heading level0 row0\" >Store Number</th>\n",
       "      <td id=\"T_abb22_row0_col0\" class=\"data row0 col0\" >1.000000</td>\n",
       "      <td id=\"T_abb22_row0_col1\" class=\"data row0 col1\" >0.032871</td>\n",
       "      <td id=\"T_abb22_row0_col2\" class=\"data row0 col2\" >0.007506</td>\n",
       "      <td id=\"T_abb22_row0_col3\" class=\"data row0 col3\" >-0.101059</td>\n",
       "      <td id=\"T_abb22_row0_col4\" class=\"data row0 col4\" >-0.016575</td>\n",
       "      <td id=\"T_abb22_row0_col5\" class=\"data row0 col5\" >0.006903</td>\n",
       "      <td id=\"T_abb22_row0_col6\" class=\"data row0 col6\" >-0.030910</td>\n",
       "      <td id=\"T_abb22_row0_col7\" class=\"data row0 col7\" >0.051849</td>\n",
       "    </tr>\n",
       "    <tr>\n",
       "      <th id=\"T_abb22_level0_row1\" class=\"row_heading level0 row1\" >Vendor Number</th>\n",
       "      <td id=\"T_abb22_row1_col0\" class=\"data row1 col0\" >0.032871</td>\n",
       "      <td id=\"T_abb22_row1_col1\" class=\"data row1 col1\" >1.000000</td>\n",
       "      <td id=\"T_abb22_row1_col2\" class=\"data row1 col2\" >0.109213</td>\n",
       "      <td id=\"T_abb22_row1_col3\" class=\"data row1 col3\" >0.005408</td>\n",
       "      <td id=\"T_abb22_row1_col4\" class=\"data row1 col4\" >-0.001096</td>\n",
       "      <td id=\"T_abb22_row1_col5\" class=\"data row1 col5\" >0.022878</td>\n",
       "      <td id=\"T_abb22_row1_col6\" class=\"data row1 col6\" >0.006290</td>\n",
       "      <td id=\"T_abb22_row1_col7\" class=\"data row1 col7\" >0.017024</td>\n",
       "    </tr>\n",
       "    <tr>\n",
       "      <th id=\"T_abb22_level0_row2\" class=\"row_heading level0 row2\" >Item Number</th>\n",
       "      <td id=\"T_abb22_row2_col0\" class=\"data row2 col0\" >0.007506</td>\n",
       "      <td id=\"T_abb22_row2_col1\" class=\"data row2 col1\" >0.109213</td>\n",
       "      <td id=\"T_abb22_row2_col2\" class=\"data row2 col2\" >1.000000</td>\n",
       "      <td id=\"T_abb22_row2_col3\" class=\"data row2 col3\" >-0.041195</td>\n",
       "      <td id=\"T_abb22_row2_col4\" class=\"data row2 col4\" >0.102308</td>\n",
       "      <td id=\"T_abb22_row2_col5\" class=\"data row2 col5\" >0.029554</td>\n",
       "      <td id=\"T_abb22_row2_col6\" class=\"data row2 col6\" >0.033323</td>\n",
       "      <td id=\"T_abb22_row2_col7\" class=\"data row2 col7\" >-0.000762</td>\n",
       "    </tr>\n",
       "    <tr>\n",
       "      <th id=\"T_abb22_level0_row3\" class=\"row_heading level0 row3\" >Bottle Volume (ml)</th>\n",
       "      <td id=\"T_abb22_row3_col0\" class=\"data row3 col0\" >-0.101059</td>\n",
       "      <td id=\"T_abb22_row3_col1\" class=\"data row3 col1\" >0.005408</td>\n",
       "      <td id=\"T_abb22_row3_col2\" class=\"data row3 col2\" >-0.041195</td>\n",
       "      <td id=\"T_abb22_row3_col3\" class=\"data row3 col3\" >1.000000</td>\n",
       "      <td id=\"T_abb22_row3_col4\" class=\"data row3 col4\" >0.323964</td>\n",
       "      <td id=\"T_abb22_row3_col5\" class=\"data row3 col5\" >-0.017281</td>\n",
       "      <td id=\"T_abb22_row3_col6\" class=\"data row3 col6\" >0.119758</td>\n",
       "      <td id=\"T_abb22_row3_col7\" class=\"data row3 col7\" >-0.014408</td>\n",
       "    </tr>\n",
       "    <tr>\n",
       "      <th id=\"T_abb22_level0_row4\" class=\"row_heading level0 row4\" >State Bottle Retail</th>\n",
       "      <td id=\"T_abb22_row4_col0\" class=\"data row4 col0\" >-0.016575</td>\n",
       "      <td id=\"T_abb22_row4_col1\" class=\"data row4 col1\" >-0.001096</td>\n",
       "      <td id=\"T_abb22_row4_col2\" class=\"data row4 col2\" >0.102308</td>\n",
       "      <td id=\"T_abb22_row4_col3\" class=\"data row4 col3\" >0.323964</td>\n",
       "      <td id=\"T_abb22_row4_col4\" class=\"data row4 col4\" >1.000000</td>\n",
       "      <td id=\"T_abb22_row4_col5\" class=\"data row4 col5\" >-0.047421</td>\n",
       "      <td id=\"T_abb22_row4_col6\" class=\"data row4 col6\" >0.004596</td>\n",
       "      <td id=\"T_abb22_row4_col7\" class=\"data row4 col7\" >0.008139</td>\n",
       "    </tr>\n",
       "    <tr>\n",
       "      <th id=\"T_abb22_level0_row5\" class=\"row_heading level0 row5\" >Bottles Sold</th>\n",
       "      <td id=\"T_abb22_row5_col0\" class=\"data row5 col0\" >0.006903</td>\n",
       "      <td id=\"T_abb22_row5_col1\" class=\"data row5 col1\" >0.022878</td>\n",
       "      <td id=\"T_abb22_row5_col2\" class=\"data row5 col2\" >0.029554</td>\n",
       "      <td id=\"T_abb22_row5_col3\" class=\"data row5 col3\" >-0.017281</td>\n",
       "      <td id=\"T_abb22_row5_col4\" class=\"data row5 col4\" >-0.047421</td>\n",
       "      <td id=\"T_abb22_row5_col5\" class=\"data row5 col5\" >1.000000</td>\n",
       "      <td id=\"T_abb22_row5_col6\" class=\"data row5 col6\" >0.873654</td>\n",
       "      <td id=\"T_abb22_row5_col7\" class=\"data row5 col7\" >0.004547</td>\n",
       "    </tr>\n",
       "    <tr>\n",
       "      <th id=\"T_abb22_level0_row6\" class=\"row_heading level0 row6\" >Volume Sold (Liters)</th>\n",
       "      <td id=\"T_abb22_row6_col0\" class=\"data row6 col0\" >-0.030910</td>\n",
       "      <td id=\"T_abb22_row6_col1\" class=\"data row6 col1\" >0.006290</td>\n",
       "      <td id=\"T_abb22_row6_col2\" class=\"data row6 col2\" >0.033323</td>\n",
       "      <td id=\"T_abb22_row6_col3\" class=\"data row6 col3\" >0.119758</td>\n",
       "      <td id=\"T_abb22_row6_col4\" class=\"data row6 col4\" >0.004596</td>\n",
       "      <td id=\"T_abb22_row6_col5\" class=\"data row6 col5\" >0.873654</td>\n",
       "      <td id=\"T_abb22_row6_col6\" class=\"data row6 col6\" >1.000000</td>\n",
       "      <td id=\"T_abb22_row6_col7\" class=\"data row6 col7\" >0.000356</td>\n",
       "    </tr>\n",
       "    <tr>\n",
       "      <th id=\"T_abb22_level0_row7\" class=\"row_heading level0 row7\" >weekday</th>\n",
       "      <td id=\"T_abb22_row7_col0\" class=\"data row7 col0\" >0.051849</td>\n",
       "      <td id=\"T_abb22_row7_col1\" class=\"data row7 col1\" >0.017024</td>\n",
       "      <td id=\"T_abb22_row7_col2\" class=\"data row7 col2\" >-0.000762</td>\n",
       "      <td id=\"T_abb22_row7_col3\" class=\"data row7 col3\" >-0.014408</td>\n",
       "      <td id=\"T_abb22_row7_col4\" class=\"data row7 col4\" >0.008139</td>\n",
       "      <td id=\"T_abb22_row7_col5\" class=\"data row7 col5\" >0.004547</td>\n",
       "      <td id=\"T_abb22_row7_col6\" class=\"data row7 col6\" >0.000356</td>\n",
       "      <td id=\"T_abb22_row7_col7\" class=\"data row7 col7\" >1.000000</td>\n",
       "    </tr>\n",
       "  </tbody>\n",
       "</table>\n"
      ],
      "text/plain": [
       "<pandas.io.formats.style.Styler at 0x1e45392e5f0>"
      ]
     },
     "execution_count": 8,
     "metadata": {},
     "output_type": "execute_result"
    }
   ],
   "source": [
    "corr = df[['Store Number','Vendor Number','Item Number','Bottle Volume (ml)','State Bottle Retail','Bottles Sold','Volume Sold (Liters)','weekday']].corr()\n",
    "\n",
    "corr.style.background_gradient(cmap='RdYlGn')"
   ]
  },
  {
   "cell_type": "code",
   "execution_count": 9,
   "metadata": {},
   "outputs": [
    {
     "data": {
      "text/plain": [
       "598"
      ]
     },
     "execution_count": 9,
     "metadata": {},
     "output_type": "execute_result"
    }
   ],
   "source": [
    "from DataLink import DataLink\n",
    "import dotenv\n",
    "import os\n",
    "dotenv.load_dotenv('../.env')\n",
    "\n",
    "link = DataLink(os.environ[\"POSTGRES_USER\"], os.environ[\"POSTGRES_PASSWORD\"], \"db\", \n",
    "                host=\"192.168.0.113\"\n",
    "                )\n",
    "\n",
    "# # df.set_index('Item Number').to_sql(\"liquor\", link.engine, if_exists=\"replace\", index=True, index_label=['Item Number'], chunksize=1_000_000)\n",
    "itemStats.set_index('item_number').to_sql(\"liquor_store_stats\", link.engine, if_exists=\"replace\", index=True, index_label=['item_number'], chunksize=1_000_000)\n"
   ]
  },
  {
   "cell_type": "code",
   "execution_count": 10,
   "metadata": {},
   "outputs": [
    {
     "name": "stdout",
     "output_type": "stream",
     "text": [
      "(2952, 12598)\n"
     ]
    }
   ],
   "source": [
    "pivotDf = (\n",
    "    pd.pivot_table(\n",
    "        df,\n",
    "        index=\"Store Number\",\n",
    "        columns=\"Item Number\",\n",
    "        values=\"Bottles Sold\",\n",
    "        aggfunc=lambda x: x.sum(),\n",
    "    )\n",
    "    .reset_index()\n",
    "    .fillna(0)\n",
    "    .drop(\"Store Number\", axis=1)\n",
    ")\n",
    "print(pivotDf.shape)"
   ]
  },
  {
   "cell_type": "code",
   "execution_count": 11,
   "metadata": {},
   "outputs": [],
   "source": [
    "from numpy.linalg import svd\n",
    "\n",
    "matrix = pivotDf.values\n",
    "u, s, vh = svd(matrix, full_matrices=False)\n",
    "k = 1024\n",
    "U = u[:, :k]\n",
    "VT = vh[:, :k]"
   ]
  },
  {
   "cell_type": "code",
   "execution_count": 12,
   "metadata": {},
   "outputs": [
    {
     "name": "stdout",
     "output_type": "stream",
     "text": [
      "           0             1             2             3             4         5         6         7             8             9     ...      1014      1015      1016      1017      1018      1019      1020      1021      1022      1023\n",
      "0 -8.968078e-07 -3.372753e-06 -5.527936e-06 -1.275140e-06 -9.218630e-07 -0.000004 -0.000039 -0.000006 -7.767270e-07 -1.214606e-06  ... -0.000003 -0.000148 -0.011214 -0.011137 -0.000818 -0.000743 -0.000091 -0.002868 -0.000005 -0.000017\n",
      "1  6.439515e-06  1.434550e-05  1.426490e-05  2.948490e-06  5.467430e-06  0.000046  0.000218  0.000002  5.197317e-06  8.000281e-06  ...  0.000017  0.000678  0.012070 -0.003141  0.003049  0.000758  0.000218  0.008297  0.000010  0.000015\n",
      "2 -4.227308e-06 -8.268627e-06 -6.766992e-06 -2.230809e-06 -5.005382e-06 -0.000021 -0.000259  0.000004 -3.067320e-06 -3.023768e-06  ... -0.000016 -0.000287 -0.023393  0.009255 -0.016606 -0.000127 -0.000105 -0.004608 -0.000008 -0.000069\n",
      "3 -6.828956e-07  2.311354e-07 -9.773650e-06 -2.553841e-06 -5.184596e-07  0.000005 -0.000014  0.000006 -1.090101e-06 -5.185920e-07  ...  0.000002 -0.000016  0.008353  0.007801  0.028204  0.000347  0.000021 -0.002603  0.000005  0.000111\n",
      "4  6.346511e-06  1.578094e-05  3.877704e-07  3.950639e-07  7.550979e-06  0.000044  0.000371  0.000007  4.529209e-06  5.247095e-06  ...  0.000030  0.000560  0.007361  0.001006 -0.019546  0.000992  0.000253  0.004727  0.000019 -0.000073\n",
      "\n",
      "[5 rows x 1024 columns]\n",
      "(2952, 1024)\n",
      "(1024,)\n"
     ]
    }
   ],
   "source": [
    "print(pd.DataFrame(VT).head())\n",
    "print(pd.DataFrame(VT).shape)\n",
    "print(VT[0].shape)\n"
   ]
  },
  {
   "cell_type": "code",
   "execution_count": 13,
   "metadata": {},
   "outputs": [
    {
     "name": "stdout",
     "output_type": "stream",
     "text": [
      "You Know, for Search\n"
     ]
    }
   ],
   "source": [
    "from elasticsearch import Elasticsearch\n",
    "\n",
    "client = Elasticsearch(\"http://192.168.0.113:9200\")\n",
    "print(client.info()['tagline'])"
   ]
  },
  {
   "cell_type": "code",
   "execution_count": 14,
   "metadata": {},
   "outputs": [
    {
     "name": "stdout",
     "output_type": "stream",
     "text": [
      "creating index...\n"
     ]
    },
    {
     "name": "stderr",
     "output_type": "stream",
     "text": [
      "C:\\Users\\Maxca\\AppData\\Local\\Temp\\ipykernel_18476\\4004473712.py:21: DeprecationWarning: The 'body' parameter is deprecated and will be removed in a future version. Instead use individual parameters.\n",
      "  client.indices.create(index=\"liquoridx\", body=request_body)\n"
     ]
    },
    {
     "data": {
      "text/plain": [
       "ObjectApiResponse({'acknowledged': True, 'shards_acknowledged': True, 'index': 'liquoridx'})"
      ]
     },
     "execution_count": 14,
     "metadata": {},
     "output_type": "execute_result"
    }
   ],
   "source": [
    "# 'Item Number','Item Description','Pack','Bottle Volume (ml)','Category Name'\n",
    "\n",
    "request_body = {\n",
    "    \"mappings\": {\n",
    "        \"properties\": {\n",
    "            \"productCode\": {\"type\": \"integer\"},\n",
    "            \"embed\": {\n",
    "                \"type\": \"dense_vector\",\n",
    "                \"dims\": 1024,\n",
    "                \"index\": True,\n",
    "                \"similarity\": \"cosine\",\n",
    "            },\n",
    "            \"name\": {\"type\": \"text\"},\n",
    "            \"pack\": {\"type\": \"integer\"},\n",
    "            \"vol_ml\": {\"type\": \"integer\"},\n",
    "            \"category\": {\"type\": \"text\"},\n",
    "        }\n",
    "    }\n",
    "}\n",
    "print(\"creating index...\")\n",
    "client.indices.create(index=\"liquoridx\", body=request_body)"
   ]
  },
  {
   "cell_type": "code",
   "execution_count": 16,
   "metadata": {},
   "outputs": [],
   "source": [
    "for embed, prodCode in zip(VT, pivotDf.columns.to_list()):\n",
    "    sliceOfMeta = df_itemNames[df_itemNames[\"Item Number\"] == prodCode]\n",
    "    \n",
    "    # print(sliceOfMeta)\n",
    "    \n",
    "    # break\n",
    "    doc = {\n",
    "        \"productCode\": prodCode,\n",
    "        \"embed\": embed,\n",
    "        \"name\": sliceOfMeta[\"Item Description\"].iloc[0],\n",
    "        \"pack\": sliceOfMeta[\"Pack\"].iloc[0],\n",
    "        \"vol_ml\": sliceOfMeta[\"Bottle Volume (ml)\"].iloc[0],\n",
    "        \"category\": sliceOfMeta[\"Category Name\"].iloc[0],\n",
    "    }\n",
    "\n",
    "    try:\n",
    "        client.index(index=\"liquoridx\", document=doc)\n",
    "    except Exception as e:\n",
    "        print(prodCode, e)"
   ]
  },
  {
   "cell_type": "code",
   "execution_count": 17,
   "metadata": {},
   "outputs": [
    {
     "data": {
      "text/plain": [
       "ObjectApiResponse({'_shards': {'total': 2, 'successful': 1, 'failed': 0}})"
      ]
     },
     "execution_count": 17,
     "metadata": {},
     "output_type": "execute_result"
    }
   ],
   "source": [
    "client.indices.refresh(index=\"liquoridx\")"
   ]
  },
  {
   "cell_type": "code",
   "execution_count": null,
   "metadata": {},
   "outputs": [],
   "source": [
    "# Fuzzy search\n",
    "\n",
    "body = {\"match\": {\"name\": {\"query\": \"blueberry\", \"fuzziness\": \"AUTO\"}}}\n",
    "\n",
    "\n",
    "find = client.search(\n",
    "    index=\"liquoridx\", query=body, source=[\"productCode\", \"name\", \"embed\"]\n",
    ")\n",
    "print(find)\n",
    "\n",
    "for hit in find.body[\"hits\"][\"hits\"]:\n",
    "    print(hit)"
   ]
  },
  {
   "cell_type": "code",
   "execution_count": null,
   "metadata": {},
   "outputs": [],
   "source": [
    "# Vector search\n",
    "\n",
    "\n",
    "# first find the id\n",
    "searchWord = \"Finlandia Rasberry\"\n",
    "\n",
    "body = {\"match\": {\"name\": {\"query\": searchWord, \"fuzziness\": \"AUTO\"}}}\n",
    "find = client.search(index=\"liquoridx\", query=body, source=[\"productCode\", \"name\"])\n",
    "\n",
    "topMatchCode = int(find.body[\"hits\"][\"hits\"][0][\"_source\"][\"productCode\"])\n",
    "\n",
    "# retrieve the embedding for that id\n",
    "\n",
    "body = {\"match\": {\"productCode\": {\"query\": topMatchCode}}}\n",
    "find = client.search(\n",
    "    index=\"liquoridx\", query=body, source=[\"productCode\", \"name\", \"embed\"])\n",
    "\n",
    "embeddingArr = find.body[\"hits\"][\"hits\"][0][\"_source\"][\"embed\"]\n",
    "\n",
    "# Similarity search\n",
    "\n",
    "\n",
    "body = {\n",
    "    \"field\": \"embed\",\n",
    "    \"query_vector\": embeddingArr,\n",
    "    \"k\": 10,\n",
    "    \"num_candidates\": 30\n",
    "}\n",
    "\n",
    "find = client.search(\n",
    "    index=\"liquoridx\",\n",
    "    source=[\"productCode\", \"name\"],\n",
    "    knn= body,\n",
    ")\n",
    "\n",
    "\n",
    "for hit in find.body[\"hits\"][\"hits\"]:\n",
    "    print(hit)"
   ]
  }
 ],
 "metadata": {
  "kernelspec": {
   "display_name": "tf_gpu",
   "language": "python",
   "name": "python3"
  },
  "language_info": {
   "codemirror_mode": {
    "name": "ipython",
    "version": 3
   },
   "file_extension": ".py",
   "mimetype": "text/x-python",
   "name": "python",
   "nbconvert_exporter": "python",
   "pygments_lexer": "ipython3",
   "version": "3.10.11"
  },
  "orig_nbformat": 4
 },
 "nbformat": 4,
 "nbformat_minor": 2
}
